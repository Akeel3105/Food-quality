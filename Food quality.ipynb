{
 "cells": [
  {
   "cell_type": "code",
   "execution_count": 1,
   "metadata": {},
   "outputs": [],
   "source": [
    "# A brief of dataset"
   ]
  },
  {
   "cell_type": "code",
   "execution_count": 2,
   "metadata": {},
   "outputs": [
    {
     "data": {
      "text/plain": [
       "'\\nThe food inspection department conducts regular inspection on food quality for various restaurants in the city. It’s a very \\nwell documented procedure and over time some good amount of data has been generated out of these inspections. \\n\\nThe inspection department would like to predict where they should focus most in terms of their next inspection schedule, so \\nthat they can most optimize their time at hand to catch the worst offenders. Can the past inspection or any data that they have\\ncollected predict which facility will pass or fail.\\n\\nBuild a predictive model that is capable of predicting the outcome of an inspection conducted in a facility based on the given \\nset of features\\n\\nFeatures : \\n\\nID: A unique id for each inspection\\n\\nDate: The date at which the inspection was done in a particular facility\\n\\nLicenseNo: De-identified license number for a particular facility\\n\\nFacilityID: De-identified unique facility id  for a facility\\n\\nFacilityName: The encoded name of a facility\\n\\nType: The type of the facility being inspected\\n\\nStreet: The encoded street where the facility is located\\n\\nCity: The encoded city where the facility is located\\n\\nState: The encoded state where the facility is located\\n\\nLocationID: An encoded location feature.\\n\\nReason: The primary reason for the inspection\\n\\nSectionViolations: Laws violated by the facility\\n\\nRiskLevel: The level of risk the facility possesses to the consumers.\\n\\nGeo_Loc: De-identified geo location of the facility\\n\\nInspection_Results: The result of the inspection\\n\\nTarget :\\n\\nThe inspection results can have any of the following values :\\n\\n0:’FACILITY CHANGED’\\n1:’FAIL’\\n2:’FURTHER INSPECTION REQUIRED’,\\n3:’INSPECTION OVERRULED’\\n4:’PASS’\\n5:’PASS(CONDITIONAL)’\\n6:’SHUT-DOWN’\\n\\n\\n'"
      ]
     },
     "execution_count": 2,
     "metadata": {},
     "output_type": "execute_result"
    }
   ],
   "source": [
    "\n",
    "'''\n",
    "The food inspection department conducts regular inspection on food quality for various restaurants in the city. It’s a very \n",
    "well documented procedure and over time some good amount of data has been generated out of these inspections. \n",
    "\n",
    "The inspection department would like to predict where they should focus most in terms of their next inspection schedule, so \n",
    "that they can most optimize their time at hand to catch the worst offenders. Can the past inspection or any data that they have\n",
    "collected predict which facility will pass or fail.\n",
    "\n",
    "Build a predictive model that is capable of predicting the outcome of an inspection conducted in a facility based on the given \n",
    "set of features\n",
    "\n",
    "Features : \n",
    "\n",
    "ID: A unique id for each inspection\n",
    "\n",
    "Date: The date at which the inspection was done in a particular facility\n",
    "\n",
    "LicenseNo: De-identified license number for a particular facility\n",
    "\n",
    "FacilityID: De-identified unique facility id  for a facility\n",
    "\n",
    "FacilityName: The encoded name of a facility\n",
    "\n",
    "Type: The type of the facility being inspected\n",
    "\n",
    "Street: The encoded street where the facility is located\n",
    "\n",
    "City: The encoded city where the facility is located\n",
    "\n",
    "State: The encoded state where the facility is located\n",
    "\n",
    "LocationID: An encoded location feature.\n",
    "\n",
    "Reason: The primary reason for the inspection\n",
    "\n",
    "SectionViolations: Laws violated by the facility\n",
    "\n",
    "RiskLevel: The level of risk the facility possesses to the consumers.\n",
    "\n",
    "Geo_Loc: De-identified geo location of the facility\n",
    "\n",
    "Inspection_Results: The result of the inspection\n",
    "\n",
    "Target :\n",
    "\n",
    "The inspection results can have any of the following values :\n",
    "\n",
    "0:’FACILITY CHANGED’\n",
    "1:’FAIL’\n",
    "2:’FURTHER INSPECTION REQUIRED’,\n",
    "3:’INSPECTION OVERRULED’\n",
    "4:’PASS’\n",
    "5:’PASS(CONDITIONAL)’\n",
    "6:’SHUT-DOWN’\n",
    "\n",
    "\n",
    "'''"
   ]
  },
  {
   "cell_type": "code",
   "execution_count": 3,
   "metadata": {},
   "outputs": [],
   "source": [
    "import numpy as np\n",
    "import pandas as pd\n",
    "import matplotlib.pyplot as plt\n",
    "%matplotlib inline\n",
    "import seaborn as sns\n",
    "from sklearn.preprocessing import LabelEncoder\n",
    "from sklearn import datasets\n",
    "from sklearn.metrics import r2_score\n",
    "from sklearn.preprocessing import StandardScaler\n",
    "from sklearn import linear_model\n",
    "from sklearn.metrics import mean_squared_error\n",
    "from sklearn.model_selection import train_test_split\n",
    "from sklearn import svm\n",
    "from sklearn.tree import DecisionTreeClassifier\n",
    "from sklearn.ensemble import RandomForestClassifier\n",
    "from sklearn.linear_model import LogisticRegression\n",
    "from sklearn.metrics import f1_score,roc_curve, auc ,accuracy_score,cohen_kappa_score,confusion_matrix,classification_report,recall_score,precision_score\n",
    "from pprint import pprint\n",
    "from sklearn.ensemble import RandomForestRegressor\n",
    "from sklearn.tree import DecisionTreeRegressor\n",
    "from sklearn.decomposition import PCA\n",
    "import sklearn.feature_selection\n",
    "from sklearn.neighbors import KNeighborsClassifier\n",
    "from sklearn.metrics import confusion_matrix\n",
    "from sklearn.cluster import KMeans\n",
    "from sklearn import preprocessing\n",
    "from sklearn.metrics import silhouette_score\n",
    "from sklearn.linear_model import LinearRegression\n",
    "from sklearn.metrics import mean_absolute_error\n",
    "from pandas.plotting import scatter_matrix\n",
    "from sklearn.discriminant_analysis import LinearDiscriminantAnalysis\n",
    "from sklearn.naive_bayes import GaussianNB\n",
    "from sklearn.model_selection import StratifiedKFold\n",
    "from sklearn.metrics import classification_report\n",
    "from sklearn.svm import SVC\n",
    "from sklearn.model_selection import cross_val_score\n",
    "from matplotlib import pyplot\n",
    "from sklearn.svm import SVR\n",
    "from sklearn.ensemble import BaggingClassifier\n",
    "from sklearn.ensemble import ExtraTreesClassifier\n",
    "from sklearn.ensemble import BaggingRegressor\n",
    "from sklearn.impute import SimpleImputer\n",
    "from sklearn.feature_selection import SelectKBest\n",
    "from sklearn.feature_selection import chi2\n",
    "from sklearn.preprocessing import PolynomialFeatures\n",
    "import statsmodels.formula.api as sm\n",
    "from statsmodels.stats.outliers_influence import variance_inflation_factor\n",
    "from sklearn.utils import resample\n",
    "from sklearn.preprocessing import OneHotEncoder\n",
    "from sklearn.discriminant_analysis import QuadraticDiscriminantAnalysis\n",
    "from sklearn.linear_model import SGDClassifier"
   ]
  },
  {
   "cell_type": "code",
   "execution_count": 4,
   "metadata": {},
   "outputs": [],
   "source": [
    "# Importing train dataset"
   ]
  },
  {
   "cell_type": "code",
   "execution_count": 5,
   "metadata": {},
   "outputs": [],
   "source": [
    "fd=pd.read_excel(\"C://Users//acer//Desktop//Intern//Food_quality//Data_Train.xlsx\")"
   ]
  },
  {
   "cell_type": "code",
   "execution_count": 6,
   "metadata": {},
   "outputs": [],
   "source": [
    "# a glance of dataset"
   ]
  },
  {
   "cell_type": "code",
   "execution_count": 7,
   "metadata": {},
   "outputs": [
    {
     "data": {
      "text/html": [
       "<div>\n",
       "<style scoped>\n",
       "    .dataframe tbody tr th:only-of-type {\n",
       "        vertical-align: middle;\n",
       "    }\n",
       "\n",
       "    .dataframe tbody tr th {\n",
       "        vertical-align: top;\n",
       "    }\n",
       "\n",
       "    .dataframe thead th {\n",
       "        text-align: right;\n",
       "    }\n",
       "</style>\n",
       "<table border=\"1\" class=\"dataframe\">\n",
       "  <thead>\n",
       "    <tr style=\"text-align: right;\">\n",
       "      <th></th>\n",
       "      <th>ID</th>\n",
       "      <th>Date</th>\n",
       "      <th>LicenseNo</th>\n",
       "      <th>FacilityID</th>\n",
       "      <th>FacilityName</th>\n",
       "      <th>Type</th>\n",
       "      <th>Street</th>\n",
       "      <th>City</th>\n",
       "      <th>State</th>\n",
       "      <th>LocationID</th>\n",
       "      <th>Reason</th>\n",
       "      <th>SectionViolations</th>\n",
       "      <th>RiskLevel</th>\n",
       "      <th>Geo_Loc</th>\n",
       "      <th>Inspection_Results</th>\n",
       "    </tr>\n",
       "  </thead>\n",
       "  <tbody>\n",
       "    <tr>\n",
       "      <td>0</td>\n",
       "      <td>31103489027986</td>\n",
       "      <td>26-04-2010</td>\n",
       "      <td>4744</td>\n",
       "      <td>8123</td>\n",
       "      <td>7715</td>\n",
       "      <td>RESTAURANT</td>\n",
       "      <td>15522</td>\n",
       "      <td>id-11235901</td>\n",
       "      <td>id_1890134</td>\n",
       "      <td>81876.0</td>\n",
       "      <td>CANVASS</td>\n",
       "      <td>33.0</td>\n",
       "      <td>High</td>\n",
       "      <td>locid16406</td>\n",
       "      <td>4</td>\n",
       "    </tr>\n",
       "    <tr>\n",
       "      <td>1</td>\n",
       "      <td>10088999935915</td>\n",
       "      <td>21-06-2009</td>\n",
       "      <td>2973</td>\n",
       "      <td>12268</td>\n",
       "      <td>11664</td>\n",
       "      <td>GROCERY STORE</td>\n",
       "      <td>3057</td>\n",
       "      <td>id-11235901</td>\n",
       "      <td>id_1890134</td>\n",
       "      <td>81862.0</td>\n",
       "      <td>COMPLAINT</td>\n",
       "      <td>33.0</td>\n",
       "      <td>High</td>\n",
       "      <td>locid878</td>\n",
       "      <td>4</td>\n",
       "    </tr>\n",
       "    <tr>\n",
       "      <td>2</td>\n",
       "      <td>40148966010272</td>\n",
       "      <td>01-05-2013</td>\n",
       "      <td>18223</td>\n",
       "      <td>1112</td>\n",
       "      <td>969</td>\n",
       "      <td>RESTAURANT</td>\n",
       "      <td>14988</td>\n",
       "      <td>id-11235901</td>\n",
       "      <td>id_1890134</td>\n",
       "      <td>81883.0</td>\n",
       "      <td>CANVASS</td>\n",
       "      <td>NaN</td>\n",
       "      <td>High</td>\n",
       "      <td>locid3368</td>\n",
       "      <td>6</td>\n",
       "    </tr>\n",
       "  </tbody>\n",
       "</table>\n",
       "</div>"
      ],
      "text/plain": [
       "               ID        Date  LicenseNo  FacilityID  FacilityName  \\\n",
       "0  31103489027986  26-04-2010       4744        8123          7715   \n",
       "1  10088999935915  21-06-2009       2973       12268         11664   \n",
       "2  40148966010272  01-05-2013      18223        1112           969   \n",
       "\n",
       "            Type  Street         City       State  LocationID     Reason  \\\n",
       "0     RESTAURANT   15522  id-11235901  id_1890134     81876.0    CANVASS   \n",
       "1  GROCERY STORE    3057  id-11235901  id_1890134     81862.0  COMPLAINT   \n",
       "2     RESTAURANT   14988  id-11235901  id_1890134     81883.0    CANVASS   \n",
       "\n",
       "   SectionViolations RiskLevel     Geo_Loc  Inspection_Results  \n",
       "0               33.0      High  locid16406                   4  \n",
       "1               33.0      High    locid878                   4  \n",
       "2                NaN      High   locid3368                   6  "
      ]
     },
     "execution_count": 7,
     "metadata": {},
     "output_type": "execute_result"
    }
   ],
   "source": [
    "fd.head(3)"
   ]
  },
  {
   "cell_type": "code",
   "execution_count": 8,
   "metadata": {},
   "outputs": [],
   "source": [
    "# shape of train dataset"
   ]
  },
  {
   "cell_type": "code",
   "execution_count": 9,
   "metadata": {},
   "outputs": [
    {
     "data": {
      "text/plain": [
       "(147443, 15)"
      ]
     },
     "execution_count": 9,
     "metadata": {},
     "output_type": "execute_result"
    }
   ],
   "source": [
    "fd.shape"
   ]
  },
  {
   "cell_type": "code",
   "execution_count": 10,
   "metadata": {},
   "outputs": [],
   "source": [
    "# importing test dataset"
   ]
  },
  {
   "cell_type": "code",
   "execution_count": 11,
   "metadata": {},
   "outputs": [],
   "source": [
    "df=pd.read_excel(\"C://Users//acer//Desktop//Intern//Food_quality//Data_Test.xlsx\")"
   ]
  },
  {
   "cell_type": "code",
   "execution_count": 12,
   "metadata": {},
   "outputs": [],
   "source": [
    "# shape of test dataset"
   ]
  },
  {
   "cell_type": "code",
   "execution_count": 13,
   "metadata": {},
   "outputs": [
    {
     "data": {
      "text/plain": [
       "(49148, 15)"
      ]
     },
     "execution_count": 13,
     "metadata": {},
     "output_type": "execute_result"
    }
   ],
   "source": [
    "df.shape"
   ]
  },
  {
   "cell_type": "code",
   "execution_count": 14,
   "metadata": {},
   "outputs": [],
   "source": [
    "# a glance of dataset"
   ]
  },
  {
   "cell_type": "code",
   "execution_count": 15,
   "metadata": {},
   "outputs": [
    {
     "data": {
      "text/html": [
       "<div>\n",
       "<style scoped>\n",
       "    .dataframe tbody tr th:only-of-type {\n",
       "        vertical-align: middle;\n",
       "    }\n",
       "\n",
       "    .dataframe tbody tr th {\n",
       "        vertical-align: top;\n",
       "    }\n",
       "\n",
       "    .dataframe thead th {\n",
       "        text-align: right;\n",
       "    }\n",
       "</style>\n",
       "<table border=\"1\" class=\"dataframe\">\n",
       "  <thead>\n",
       "    <tr style=\"text-align: right;\">\n",
       "      <th></th>\n",
       "      <th>ID</th>\n",
       "      <th>Date</th>\n",
       "      <th>LicenseNo</th>\n",
       "      <th>FacilityID</th>\n",
       "      <th>FacilityName</th>\n",
       "      <th>Type</th>\n",
       "      <th>Street</th>\n",
       "      <th>City</th>\n",
       "      <th>State</th>\n",
       "      <th>LocationID</th>\n",
       "      <th>Reason</th>\n",
       "      <th>SectionViolations</th>\n",
       "      <th>RiskLevel</th>\n",
       "      <th>Geo_Loc</th>\n",
       "      <th>Inspection_Results</th>\n",
       "    </tr>\n",
       "  </thead>\n",
       "  <tbody>\n",
       "    <tr>\n",
       "      <td>0</td>\n",
       "      <td>47571900570810</td>\n",
       "      <td>19-03-2014</td>\n",
       "      <td>34218</td>\n",
       "      <td>2354</td>\n",
       "      <td>2185</td>\n",
       "      <td>GROCERY STORE</td>\n",
       "      <td>17352</td>\n",
       "      <td>id-11235901</td>\n",
       "      <td>id_1890134</td>\n",
       "      <td>81864.0</td>\n",
       "      <td>CANVASS</td>\n",
       "      <td>19.0</td>\n",
       "      <td>Low</td>\n",
       "      <td>locid1145</td>\n",
       "      <td>NaN</td>\n",
       "    </tr>\n",
       "    <tr>\n",
       "      <td>1</td>\n",
       "      <td>19685766253655</td>\n",
       "      <td>22-11-2010</td>\n",
       "      <td>24597</td>\n",
       "      <td>13183</td>\n",
       "      <td>12516</td>\n",
       "      <td>SCHOOL</td>\n",
       "      <td>15536</td>\n",
       "      <td>id-11235901</td>\n",
       "      <td>id_1890134</td>\n",
       "      <td>81871.0</td>\n",
       "      <td>CANVASS</td>\n",
       "      <td>32.0</td>\n",
       "      <td>High</td>\n",
       "      <td>locid16450</td>\n",
       "      <td>NaN</td>\n",
       "    </tr>\n",
       "    <tr>\n",
       "      <td>2</td>\n",
       "      <td>37885701847801</td>\n",
       "      <td>09-06-2014</td>\n",
       "      <td>1779</td>\n",
       "      <td>26434</td>\n",
       "      <td>25220</td>\n",
       "      <td>RESTAURANT</td>\n",
       "      <td>8849</td>\n",
       "      <td>id-11235901</td>\n",
       "      <td>id_1890134</td>\n",
       "      <td>81902.0</td>\n",
       "      <td>CANVASS</td>\n",
       "      <td>NaN</td>\n",
       "      <td>High</td>\n",
       "      <td>locid12916</td>\n",
       "      <td>NaN</td>\n",
       "    </tr>\n",
       "  </tbody>\n",
       "</table>\n",
       "</div>"
      ],
      "text/plain": [
       "               ID        Date  LicenseNo  FacilityID  FacilityName  \\\n",
       "0  47571900570810  19-03-2014      34218        2354          2185   \n",
       "1  19685766253655  22-11-2010      24597       13183         12516   \n",
       "2  37885701847801  09-06-2014       1779       26434         25220   \n",
       "\n",
       "            Type  Street         City       State  LocationID   Reason  \\\n",
       "0  GROCERY STORE   17352  id-11235901  id_1890134     81864.0  CANVASS   \n",
       "1         SCHOOL   15536  id-11235901  id_1890134     81871.0  CANVASS   \n",
       "2     RESTAURANT    8849  id-11235901  id_1890134     81902.0  CANVASS   \n",
       "\n",
       "   SectionViolations RiskLevel     Geo_Loc  Inspection_Results  \n",
       "0               19.0       Low   locid1145                 NaN  \n",
       "1               32.0      High  locid16450                 NaN  \n",
       "2                NaN      High  locid12916                 NaN  "
      ]
     },
     "execution_count": 15,
     "metadata": {},
     "output_type": "execute_result"
    }
   ],
   "source": [
    "df.head(3)"
   ]
  },
  {
   "cell_type": "code",
   "execution_count": 16,
   "metadata": {},
   "outputs": [],
   "source": [
    "# concating both dataset"
   ]
  },
  {
   "cell_type": "code",
   "execution_count": 17,
   "metadata": {},
   "outputs": [],
   "source": [
    "fd=pd.concat([fd,df],axis=0)"
   ]
  },
  {
   "cell_type": "code",
   "execution_count": 18,
   "metadata": {},
   "outputs": [],
   "source": [
    "# glance of final dataset"
   ]
  },
  {
   "cell_type": "code",
   "execution_count": 19,
   "metadata": {},
   "outputs": [
    {
     "data": {
      "text/html": [
       "<div>\n",
       "<style scoped>\n",
       "    .dataframe tbody tr th:only-of-type {\n",
       "        vertical-align: middle;\n",
       "    }\n",
       "\n",
       "    .dataframe tbody tr th {\n",
       "        vertical-align: top;\n",
       "    }\n",
       "\n",
       "    .dataframe thead th {\n",
       "        text-align: right;\n",
       "    }\n",
       "</style>\n",
       "<table border=\"1\" class=\"dataframe\">\n",
       "  <thead>\n",
       "    <tr style=\"text-align: right;\">\n",
       "      <th></th>\n",
       "      <th>ID</th>\n",
       "      <th>Date</th>\n",
       "      <th>LicenseNo</th>\n",
       "      <th>FacilityID</th>\n",
       "      <th>FacilityName</th>\n",
       "      <th>Type</th>\n",
       "      <th>Street</th>\n",
       "      <th>City</th>\n",
       "      <th>State</th>\n",
       "      <th>LocationID</th>\n",
       "      <th>Reason</th>\n",
       "      <th>SectionViolations</th>\n",
       "      <th>RiskLevel</th>\n",
       "      <th>Geo_Loc</th>\n",
       "      <th>Inspection_Results</th>\n",
       "    </tr>\n",
       "  </thead>\n",
       "  <tbody>\n",
       "    <tr>\n",
       "      <td>0</td>\n",
       "      <td>31103489027986</td>\n",
       "      <td>26-04-2010</td>\n",
       "      <td>4744</td>\n",
       "      <td>8123</td>\n",
       "      <td>7715</td>\n",
       "      <td>RESTAURANT</td>\n",
       "      <td>15522</td>\n",
       "      <td>id-11235901</td>\n",
       "      <td>id_1890134</td>\n",
       "      <td>81876.0</td>\n",
       "      <td>CANVASS</td>\n",
       "      <td>33.0</td>\n",
       "      <td>High</td>\n",
       "      <td>locid16406</td>\n",
       "      <td>4.0</td>\n",
       "    </tr>\n",
       "    <tr>\n",
       "      <td>1</td>\n",
       "      <td>10088999935915</td>\n",
       "      <td>21-06-2009</td>\n",
       "      <td>2973</td>\n",
       "      <td>12268</td>\n",
       "      <td>11664</td>\n",
       "      <td>GROCERY STORE</td>\n",
       "      <td>3057</td>\n",
       "      <td>id-11235901</td>\n",
       "      <td>id_1890134</td>\n",
       "      <td>81862.0</td>\n",
       "      <td>COMPLAINT</td>\n",
       "      <td>33.0</td>\n",
       "      <td>High</td>\n",
       "      <td>locid878</td>\n",
       "      <td>4.0</td>\n",
       "    </tr>\n",
       "    <tr>\n",
       "      <td>2</td>\n",
       "      <td>40148966010272</td>\n",
       "      <td>01-05-2013</td>\n",
       "      <td>18223</td>\n",
       "      <td>1112</td>\n",
       "      <td>969</td>\n",
       "      <td>RESTAURANT</td>\n",
       "      <td>14988</td>\n",
       "      <td>id-11235901</td>\n",
       "      <td>id_1890134</td>\n",
       "      <td>81883.0</td>\n",
       "      <td>CANVASS</td>\n",
       "      <td>NaN</td>\n",
       "      <td>High</td>\n",
       "      <td>locid3368</td>\n",
       "      <td>6.0</td>\n",
       "    </tr>\n",
       "  </tbody>\n",
       "</table>\n",
       "</div>"
      ],
      "text/plain": [
       "               ID        Date  LicenseNo  FacilityID  FacilityName  \\\n",
       "0  31103489027986  26-04-2010       4744        8123          7715   \n",
       "1  10088999935915  21-06-2009       2973       12268         11664   \n",
       "2  40148966010272  01-05-2013      18223        1112           969   \n",
       "\n",
       "            Type  Street         City       State  LocationID     Reason  \\\n",
       "0     RESTAURANT   15522  id-11235901  id_1890134     81876.0    CANVASS   \n",
       "1  GROCERY STORE    3057  id-11235901  id_1890134     81862.0  COMPLAINT   \n",
       "2     RESTAURANT   14988  id-11235901  id_1890134     81883.0    CANVASS   \n",
       "\n",
       "   SectionViolations RiskLevel     Geo_Loc  Inspection_Results  \n",
       "0               33.0      High  locid16406                 4.0  \n",
       "1               33.0      High    locid878                 4.0  \n",
       "2                NaN      High   locid3368                 6.0  "
      ]
     },
     "execution_count": 19,
     "metadata": {},
     "output_type": "execute_result"
    }
   ],
   "source": [
    "fd.head(3)"
   ]
  },
  {
   "cell_type": "code",
   "execution_count": 20,
   "metadata": {},
   "outputs": [],
   "source": [
    "# shape of final dataset"
   ]
  },
  {
   "cell_type": "code",
   "execution_count": 21,
   "metadata": {},
   "outputs": [
    {
     "data": {
      "text/plain": [
       "(196591, 15)"
      ]
     },
     "execution_count": 21,
     "metadata": {},
     "output_type": "execute_result"
    }
   ],
   "source": [
    "fd.shape"
   ]
  },
  {
   "cell_type": "code",
   "execution_count": 22,
   "metadata": {},
   "outputs": [],
   "source": [
    "# listing all columns "
   ]
  },
  {
   "cell_type": "code",
   "execution_count": 23,
   "metadata": {},
   "outputs": [
    {
     "data": {
      "text/plain": [
       "Index(['ID', 'Date', 'LicenseNo', 'FacilityID', 'FacilityName', 'Type',\n",
       "       'Street', 'City', 'State', 'LocationID', 'Reason', 'SectionViolations',\n",
       "       'RiskLevel', 'Geo_Loc', 'Inspection_Results'],\n",
       "      dtype='object')"
      ]
     },
     "execution_count": 23,
     "metadata": {},
     "output_type": "execute_result"
    }
   ],
   "source": [
    "fd.columns"
   ]
  },
  {
   "cell_type": "code",
   "execution_count": 24,
   "metadata": {},
   "outputs": [],
   "source": [
    "# changing case to lower for easy identification"
   ]
  },
  {
   "cell_type": "code",
   "execution_count": 25,
   "metadata": {},
   "outputs": [],
   "source": [
    "fd.columns=map(str.lower,fd.columns)"
   ]
  },
  {
   "cell_type": "code",
   "execution_count": 26,
   "metadata": {},
   "outputs": [],
   "source": [
    "# Listing column data types"
   ]
  },
  {
   "cell_type": "code",
   "execution_count": 27,
   "metadata": {},
   "outputs": [
    {
     "data": {
      "text/plain": [
       "id                      int64\n",
       "date                   object\n",
       "licenseno               int64\n",
       "facilityid              int64\n",
       "facilityname            int64\n",
       "type                   object\n",
       "street                  int64\n",
       "city                   object\n",
       "state                  object\n",
       "locationid            float64\n",
       "reason                 object\n",
       "sectionviolations     float64\n",
       "risklevel              object\n",
       "geo_loc                object\n",
       "inspection_results    float64\n",
       "dtype: object"
      ]
     },
     "execution_count": 27,
     "metadata": {},
     "output_type": "execute_result"
    }
   ],
   "source": [
    "fd.dtypes"
   ]
  },
  {
   "cell_type": "code",
   "execution_count": 28,
   "metadata": {},
   "outputs": [],
   "source": [
    "# basic stats "
   ]
  },
  {
   "cell_type": "code",
   "execution_count": 29,
   "metadata": {},
   "outputs": [
    {
     "data": {
      "text/html": [
       "<div>\n",
       "<style scoped>\n",
       "    .dataframe tbody tr th:only-of-type {\n",
       "        vertical-align: middle;\n",
       "    }\n",
       "\n",
       "    .dataframe tbody tr th {\n",
       "        vertical-align: top;\n",
       "    }\n",
       "\n",
       "    .dataframe thead th {\n",
       "        text-align: right;\n",
       "    }\n",
       "</style>\n",
       "<table border=\"1\" class=\"dataframe\">\n",
       "  <thead>\n",
       "    <tr style=\"text-align: right;\">\n",
       "      <th></th>\n",
       "      <th>ID</th>\n",
       "      <th>LicenseNo</th>\n",
       "      <th>FacilityID</th>\n",
       "      <th>FacilityName</th>\n",
       "      <th>Street</th>\n",
       "      <th>LocationID</th>\n",
       "      <th>SectionViolations</th>\n",
       "      <th>Inspection_Results</th>\n",
       "    </tr>\n",
       "  </thead>\n",
       "  <tbody>\n",
       "    <tr>\n",
       "      <td>count</td>\n",
       "      <td>4.914800e+04</td>\n",
       "      <td>49148.000000</td>\n",
       "      <td>49148.000000</td>\n",
       "      <td>49148.000000</td>\n",
       "      <td>49148.000000</td>\n",
       "      <td>49133.000000</td>\n",
       "      <td>36172.000000</td>\n",
       "      <td>0.0</td>\n",
       "    </tr>\n",
       "    <tr>\n",
       "      <td>mean</td>\n",
       "      <td>2.992223e+13</td>\n",
       "      <td>17688.656914</td>\n",
       "      <td>13969.417046</td>\n",
       "      <td>13319.277549</td>\n",
       "      <td>8654.251343</td>\n",
       "      <td>81874.023589</td>\n",
       "      <td>24.123576</td>\n",
       "      <td>NaN</td>\n",
       "    </tr>\n",
       "    <tr>\n",
       "      <td>std</td>\n",
       "      <td>1.153187e+13</td>\n",
       "      <td>10875.471660</td>\n",
       "      <td>7785.186475</td>\n",
       "      <td>7413.667568</td>\n",
       "      <td>5272.693487</td>\n",
       "      <td>22.858196</td>\n",
       "      <td>12.631510</td>\n",
       "      <td>NaN</td>\n",
       "    </tr>\n",
       "    <tr>\n",
       "      <td>min</td>\n",
       "      <td>1.000009e+13</td>\n",
       "      <td>0.000000</td>\n",
       "      <td>0.000000</td>\n",
       "      <td>0.000000</td>\n",
       "      <td>0.000000</td>\n",
       "      <td>81252.000000</td>\n",
       "      <td>1.000000</td>\n",
       "      <td>NaN</td>\n",
       "    </tr>\n",
       "    <tr>\n",
       "      <td>25%</td>\n",
       "      <td>1.995199e+13</td>\n",
       "      <td>8525.750000</td>\n",
       "      <td>7347.000000</td>\n",
       "      <td>6993.000000</td>\n",
       "      <td>4027.000000</td>\n",
       "      <td>81859.000000</td>\n",
       "      <td>14.000000</td>\n",
       "      <td>NaN</td>\n",
       "    </tr>\n",
       "    <tr>\n",
       "      <td>50%</td>\n",
       "      <td>2.994151e+13</td>\n",
       "      <td>16920.000000</td>\n",
       "      <td>14190.000000</td>\n",
       "      <td>13625.500000</td>\n",
       "      <td>8505.000000</td>\n",
       "      <td>81870.000000</td>\n",
       "      <td>31.000000</td>\n",
       "      <td>NaN</td>\n",
       "    </tr>\n",
       "    <tr>\n",
       "      <td>75%</td>\n",
       "      <td>3.990315e+13</td>\n",
       "      <td>26109.000000</td>\n",
       "      <td>20778.000000</td>\n",
       "      <td>19764.000000</td>\n",
       "      <td>13329.250000</td>\n",
       "      <td>81888.000000</td>\n",
       "      <td>33.000000</td>\n",
       "      <td>NaN</td>\n",
       "    </tr>\n",
       "    <tr>\n",
       "      <td>max</td>\n",
       "      <td>4.999862e+13</td>\n",
       "      <td>37394.000000</td>\n",
       "      <td>27276.000000</td>\n",
       "      <td>26031.000000</td>\n",
       "      <td>17890.000000</td>\n",
       "      <td>82072.000000</td>\n",
       "      <td>70.000000</td>\n",
       "      <td>NaN</td>\n",
       "    </tr>\n",
       "  </tbody>\n",
       "</table>\n",
       "</div>"
      ],
      "text/plain": [
       "                 ID     LicenseNo    FacilityID  FacilityName        Street  \\\n",
       "count  4.914800e+04  49148.000000  49148.000000  49148.000000  49148.000000   \n",
       "mean   2.992223e+13  17688.656914  13969.417046  13319.277549   8654.251343   \n",
       "std    1.153187e+13  10875.471660   7785.186475   7413.667568   5272.693487   \n",
       "min    1.000009e+13      0.000000      0.000000      0.000000      0.000000   \n",
       "25%    1.995199e+13   8525.750000   7347.000000   6993.000000   4027.000000   \n",
       "50%    2.994151e+13  16920.000000  14190.000000  13625.500000   8505.000000   \n",
       "75%    3.990315e+13  26109.000000  20778.000000  19764.000000  13329.250000   \n",
       "max    4.999862e+13  37394.000000  27276.000000  26031.000000  17890.000000   \n",
       "\n",
       "         LocationID  SectionViolations  Inspection_Results  \n",
       "count  49133.000000       36172.000000                 0.0  \n",
       "mean   81874.023589          24.123576                 NaN  \n",
       "std       22.858196          12.631510                 NaN  \n",
       "min    81252.000000           1.000000                 NaN  \n",
       "25%    81859.000000          14.000000                 NaN  \n",
       "50%    81870.000000          31.000000                 NaN  \n",
       "75%    81888.000000          33.000000                 NaN  \n",
       "max    82072.000000          70.000000                 NaN  "
      ]
     },
     "execution_count": 29,
     "metadata": {},
     "output_type": "execute_result"
    }
   ],
   "source": [
    "df.describe()"
   ]
  },
  {
   "cell_type": "code",
   "execution_count": 30,
   "metadata": {},
   "outputs": [],
   "source": [
    "# Each value and its count"
   ]
  },
  {
   "cell_type": "code",
   "execution_count": 31,
   "metadata": {},
   "outputs": [
    {
     "data": {
      "text/plain": [
       "type\n",
       "(CONVENIENCE STORE)                  1\n",
       "(GAS STATION)                        2\n",
       "1005 NURSING HOME                    3\n",
       "1023                                15\n",
       "1023 CHILDERN'S SERVICE FACILITY    10\n",
       "                                    ..\n",
       "WINE STORE                          11\n",
       "WINE TASTING BAR                     6\n",
       "WRIGLEY ROOF TOP                    19\n",
       "WRIGLEY ROOFTOP                     16\n",
       "YOUTH HOUSING                        3\n",
       "Length: 435, dtype: int64"
      ]
     },
     "execution_count": 31,
     "metadata": {},
     "output_type": "execute_result"
    }
   ],
   "source": [
    "fd.groupby(\"type\").size()"
   ]
  },
  {
   "cell_type": "code",
   "execution_count": 32,
   "metadata": {},
   "outputs": [
    {
     "data": {
      "text/plain": [
       "reason\n",
       "CANVASS                                   104077\n",
       "CANVASS RE-INSPECTION                      20798\n",
       "COMPLAINT                                  18214\n",
       "COMPLAINT RE-INSPECTION                     7577\n",
       "COMPLAINT-FIRE                               160\n",
       "CONSULTATION                                 666\n",
       "LICENSE                                    26038\n",
       "LICENSE RE-INSPECTION                       9038\n",
       "LICENSE-TASK FORCE                           605\n",
       "OUT OF BUSINESS                              305\n",
       "RECENT INSPECTION                            337\n",
       "SHORT FORM COMPLAINT                        6764\n",
       "SHORT FORM FIRE-COMPLAINT                    113\n",
       "SUSPECTED FOOD POISONING                     853\n",
       "SUSPECTED FOOD POISONING RE-INSPECTION       191\n",
       "TAG REMOVAL                                  603\n",
       "TASK FORCE LIQUOR 1475                       252\n",
       "dtype: int64"
      ]
     },
     "execution_count": 32,
     "metadata": {},
     "output_type": "execute_result"
    }
   ],
   "source": [
    "fd.groupby(\"reason\").size()"
   ]
  },
  {
   "cell_type": "code",
   "execution_count": 33,
   "metadata": {},
   "outputs": [
    {
     "data": {
      "text/plain": [
       "High         141076\n",
       "Medium        38374\n",
       "Low           17110\n",
       "Uncertain        31\n",
       "Name: risklevel, dtype: int64"
      ]
     },
     "execution_count": 33,
     "metadata": {},
     "output_type": "execute_result"
    }
   ],
   "source": [
    "fd.risklevel.value_counts()"
   ]
  },
  {
   "cell_type": "code",
   "execution_count": 34,
   "metadata": {},
   "outputs": [],
   "source": [
    "# Looking at null values"
   ]
  },
  {
   "cell_type": "code",
   "execution_count": 35,
   "metadata": {},
   "outputs": [
    {
     "data": {
      "text/plain": [
       "id                        0\n",
       "date                      0\n",
       "licenseno                 0\n",
       "facilityid                0\n",
       "facilityname              0\n",
       "type                   4700\n",
       "street                    0\n",
       "city                      0\n",
       "state                     0\n",
       "locationid               50\n",
       "reason                    0\n",
       "sectionviolations     52044\n",
       "risklevel                 0\n",
       "geo_loc                   0\n",
       "inspection_results    49148\n",
       "dtype: int64"
      ]
     },
     "execution_count": 35,
     "metadata": {},
     "output_type": "execute_result"
    }
   ],
   "source": [
    "fd.isna().sum()"
   ]
  },
  {
   "cell_type": "code",
   "execution_count": 36,
   "metadata": {},
   "outputs": [],
   "source": [
    "# Feature engineering"
   ]
  },
  {
   "cell_type": "code",
   "execution_count": 37,
   "metadata": {},
   "outputs": [],
   "source": [
    "# id"
   ]
  },
  {
   "cell_type": "code",
   "execution_count": 38,
   "metadata": {},
   "outputs": [
    {
     "data": {
      "text/plain": [
       "dtype('int64')"
      ]
     },
     "execution_count": 38,
     "metadata": {},
     "output_type": "execute_result"
    }
   ],
   "source": [
    "fd.id.dtypes"
   ]
  },
  {
   "cell_type": "code",
   "execution_count": 39,
   "metadata": {},
   "outputs": [
    {
     "data": {
      "text/plain": [
       "0"
      ]
     },
     "execution_count": 39,
     "metadata": {},
     "output_type": "execute_result"
    }
   ],
   "source": [
    "fd.id.isna().sum()"
   ]
  },
  {
   "cell_type": "code",
   "execution_count": 40,
   "metadata": {},
   "outputs": [],
   "source": [
    "# date"
   ]
  },
  {
   "cell_type": "code",
   "execution_count": 41,
   "metadata": {},
   "outputs": [
    {
     "data": {
      "text/plain": [
       "dtype('O')"
      ]
     },
     "execution_count": 41,
     "metadata": {},
     "output_type": "execute_result"
    }
   ],
   "source": [
    "fd.date.dtype"
   ]
  },
  {
   "cell_type": "code",
   "execution_count": 42,
   "metadata": {},
   "outputs": [
    {
     "data": {
      "text/plain": [
       "0"
      ]
     },
     "execution_count": 42,
     "metadata": {},
     "output_type": "execute_result"
    }
   ],
   "source": [
    "fd.date.isna().sum()"
   ]
  },
  {
   "cell_type": "code",
   "execution_count": 43,
   "metadata": {},
   "outputs": [],
   "source": [
    "# converting to datetime datatype"
   ]
  },
  {
   "cell_type": "code",
   "execution_count": 44,
   "metadata": {},
   "outputs": [],
   "source": [
    "fd[\"date\"]=pd.to_datetime(fd[\"date\"],errors='coerce')"
   ]
  },
  {
   "cell_type": "code",
   "execution_count": 45,
   "metadata": {},
   "outputs": [],
   "source": [
    "# slicing day from date"
   ]
  },
  {
   "cell_type": "code",
   "execution_count": 46,
   "metadata": {},
   "outputs": [],
   "source": [
    "fd[\"day\"]=fd.date.dt.day"
   ]
  },
  {
   "cell_type": "code",
   "execution_count": 47,
   "metadata": {},
   "outputs": [
    {
     "data": {
      "text/plain": [
       "0    26.0\n",
       "1    21.0\n",
       "Name: day, dtype: float64"
      ]
     },
     "execution_count": 47,
     "metadata": {},
     "output_type": "execute_result"
    }
   ],
   "source": [
    "fd.day.head(2)"
   ]
  },
  {
   "cell_type": "code",
   "execution_count": 48,
   "metadata": {},
   "outputs": [
    {
     "data": {
      "text/plain": [
       "68"
      ]
     },
     "execution_count": 48,
     "metadata": {},
     "output_type": "execute_result"
    }
   ],
   "source": [
    "fd.day.isna().sum()"
   ]
  },
  {
   "cell_type": "code",
   "execution_count": 49,
   "metadata": {},
   "outputs": [],
   "source": [
    "fd.day.fillna(fd.day.mean(),inplace=True)"
   ]
  },
  {
   "cell_type": "code",
   "execution_count": 50,
   "metadata": {},
   "outputs": [],
   "source": [
    "fd.day=fd.day.astype(int)"
   ]
  },
  {
   "cell_type": "code",
   "execution_count": 51,
   "metadata": {},
   "outputs": [
    {
     "data": {
      "text/plain": [
       "array([26, 21,  5, 28, 12,  2,  4, 16,  8, 23, 31, 19,  1, 29,  9, 30, 18,\n",
       "       24,  3, 13, 10, 22, 14, 25, 11, 27, 20,  7, 17,  6, 15],\n",
       "      dtype=int64)"
      ]
     },
     "execution_count": 51,
     "metadata": {},
     "output_type": "execute_result"
    }
   ],
   "source": [
    "fd.day.unique()"
   ]
  },
  {
   "cell_type": "code",
   "execution_count": 52,
   "metadata": {},
   "outputs": [],
   "source": [
    "# slicing month"
   ]
  },
  {
   "cell_type": "code",
   "execution_count": 53,
   "metadata": {},
   "outputs": [],
   "source": [
    "fd[\"month\"]=fd.date.dt.month"
   ]
  },
  {
   "cell_type": "code",
   "execution_count": 54,
   "metadata": {},
   "outputs": [],
   "source": [
    "# Looking at null values in month "
   ]
  },
  {
   "cell_type": "code",
   "execution_count": 55,
   "metadata": {},
   "outputs": [
    {
     "data": {
      "text/plain": [
       "68"
      ]
     },
     "execution_count": 55,
     "metadata": {},
     "output_type": "execute_result"
    }
   ],
   "source": [
    "fd.month.isna().sum()"
   ]
  },
  {
   "cell_type": "code",
   "execution_count": 56,
   "metadata": {},
   "outputs": [],
   "source": [
    "# data type "
   ]
  },
  {
   "cell_type": "code",
   "execution_count": 57,
   "metadata": {},
   "outputs": [
    {
     "data": {
      "text/plain": [
       "dtype('float64')"
      ]
     },
     "execution_count": 57,
     "metadata": {},
     "output_type": "execute_result"
    }
   ],
   "source": [
    "fd.month.dtype"
   ]
  },
  {
   "cell_type": "code",
   "execution_count": 58,
   "metadata": {},
   "outputs": [],
   "source": [
    "# imputing mean values of month "
   ]
  },
  {
   "cell_type": "code",
   "execution_count": 59,
   "metadata": {},
   "outputs": [],
   "source": [
    "fd.month.fillna(fd.month.mean(),inplace=True)"
   ]
  },
  {
   "cell_type": "code",
   "execution_count": 60,
   "metadata": {},
   "outputs": [],
   "source": [
    "# converting to integer to round off all values"
   ]
  },
  {
   "cell_type": "code",
   "execution_count": 61,
   "metadata": {},
   "outputs": [],
   "source": [
    "fd.month=fd.month.astype(int)"
   ]
  },
  {
   "cell_type": "code",
   "execution_count": 62,
   "metadata": {},
   "outputs": [],
   "source": [
    "# cross checking "
   ]
  },
  {
   "cell_type": "code",
   "execution_count": 63,
   "metadata": {},
   "outputs": [
    {
     "data": {
      "text/plain": [
       "0"
      ]
     },
     "execution_count": 63,
     "metadata": {},
     "output_type": "execute_result"
    }
   ],
   "source": [
    "fd.month.isna().sum()"
   ]
  },
  {
   "cell_type": "code",
   "execution_count": 64,
   "metadata": {},
   "outputs": [],
   "source": [
    "fd[\"year\"]=fd.date.dt.year"
   ]
  },
  {
   "cell_type": "code",
   "execution_count": 65,
   "metadata": {},
   "outputs": [
    {
     "data": {
      "text/plain": [
       "68"
      ]
     },
     "execution_count": 65,
     "metadata": {},
     "output_type": "execute_result"
    }
   ],
   "source": [
    "fd.year.isna().sum()"
   ]
  },
  {
   "cell_type": "code",
   "execution_count": 66,
   "metadata": {},
   "outputs": [],
   "source": [
    "fd.year.fillna(fd.year.mean(),inplace=True)"
   ]
  },
  {
   "cell_type": "code",
   "execution_count": 67,
   "metadata": {},
   "outputs": [],
   "source": [
    "fd.year=fd.year.astype(int)"
   ]
  },
  {
   "cell_type": "code",
   "execution_count": 68,
   "metadata": {},
   "outputs": [
    {
     "data": {
      "text/plain": [
       "0"
      ]
     },
     "execution_count": 68,
     "metadata": {},
     "output_type": "execute_result"
    }
   ],
   "source": [
    "fd.year.isna().sum()"
   ]
  },
  {
   "cell_type": "code",
   "execution_count": 69,
   "metadata": {},
   "outputs": [],
   "source": [
    "# dropping date col "
   ]
  },
  {
   "cell_type": "code",
   "execution_count": 70,
   "metadata": {},
   "outputs": [],
   "source": [
    "fd.drop(\"date\",axis=1,inplace=True)"
   ]
  },
  {
   "cell_type": "code",
   "execution_count": 71,
   "metadata": {},
   "outputs": [],
   "source": [
    "# Licenseno"
   ]
  },
  {
   "cell_type": "code",
   "execution_count": 72,
   "metadata": {},
   "outputs": [
    {
     "data": {
      "text/plain": [
       "dtype('int64')"
      ]
     },
     "execution_count": 72,
     "metadata": {},
     "output_type": "execute_result"
    }
   ],
   "source": [
    "fd.licenseno.dtype"
   ]
  },
  {
   "cell_type": "code",
   "execution_count": 73,
   "metadata": {},
   "outputs": [
    {
     "data": {
      "text/plain": [
       "0"
      ]
     },
     "execution_count": 73,
     "metadata": {},
     "output_type": "execute_result"
    }
   ],
   "source": [
    "fd.licenseno.isna().sum()"
   ]
  },
  {
   "cell_type": "code",
   "execution_count": 74,
   "metadata": {},
   "outputs": [],
   "source": [
    "# facilityid"
   ]
  },
  {
   "cell_type": "code",
   "execution_count": 75,
   "metadata": {},
   "outputs": [
    {
     "data": {
      "text/plain": [
       "dtype('int64')"
      ]
     },
     "execution_count": 75,
     "metadata": {},
     "output_type": "execute_result"
    }
   ],
   "source": [
    "fd.facilityid.dtype"
   ]
  },
  {
   "cell_type": "code",
   "execution_count": 76,
   "metadata": {},
   "outputs": [
    {
     "data": {
      "text/plain": [
       "0"
      ]
     },
     "execution_count": 76,
     "metadata": {},
     "output_type": "execute_result"
    }
   ],
   "source": [
    "fd.facilityid.isna().sum()"
   ]
  },
  {
   "cell_type": "code",
   "execution_count": 77,
   "metadata": {},
   "outputs": [],
   "source": [
    "# facilityname"
   ]
  },
  {
   "cell_type": "code",
   "execution_count": 78,
   "metadata": {},
   "outputs": [
    {
     "data": {
      "text/plain": [
       "dtype('int64')"
      ]
     },
     "execution_count": 78,
     "metadata": {},
     "output_type": "execute_result"
    }
   ],
   "source": [
    "fd.facilityname.dtype"
   ]
  },
  {
   "cell_type": "code",
   "execution_count": 79,
   "metadata": {},
   "outputs": [
    {
     "data": {
      "text/plain": [
       "0"
      ]
     },
     "execution_count": 79,
     "metadata": {},
     "output_type": "execute_result"
    }
   ],
   "source": [
    "fd.facilityname.isna().sum()"
   ]
  },
  {
   "cell_type": "code",
   "execution_count": 80,
   "metadata": {},
   "outputs": [],
   "source": [
    "# type"
   ]
  },
  {
   "cell_type": "code",
   "execution_count": 81,
   "metadata": {},
   "outputs": [
    {
     "data": {
      "text/plain": [
       "dtype('O')"
      ]
     },
     "execution_count": 81,
     "metadata": {},
     "output_type": "execute_result"
    }
   ],
   "source": [
    "fd.type.dtype"
   ]
  },
  {
   "cell_type": "code",
   "execution_count": 82,
   "metadata": {},
   "outputs": [
    {
     "data": {
      "text/plain": [
       "4700"
      ]
     },
     "execution_count": 82,
     "metadata": {},
     "output_type": "execute_result"
    }
   ],
   "source": [
    "fd.type.isna().sum()"
   ]
  },
  {
   "cell_type": "code",
   "execution_count": 83,
   "metadata": {},
   "outputs": [
    {
     "data": {
      "text/plain": [
       "RESTAURANT                      131182\n",
       "GROCERY STORE                    25012\n",
       "SCHOOL                           12149\n",
       "CHILDREN'S SERVICES FACILITY      3122\n",
       "BAKERY                            2882\n",
       "                                 ...  \n",
       "MOBIL FOOD 1315                      1\n",
       "ROOFTOP PATIO                        1\n",
       "SERVICE BAR/THEATRE                  1\n",
       "SERVICE GAS STATION                  1\n",
       "COMMIASARY                           1\n",
       "Name: type, Length: 435, dtype: int64"
      ]
     },
     "execution_count": 83,
     "metadata": {},
     "output_type": "execute_result"
    }
   ],
   "source": [
    "fd.type.value_counts().sort_values(ascending=False)"
   ]
  },
  {
   "cell_type": "code",
   "execution_count": 84,
   "metadata": {},
   "outputs": [
    {
     "data": {
      "text/plain": [
       "436"
      ]
     },
     "execution_count": 84,
     "metadata": {},
     "output_type": "execute_result"
    }
   ],
   "source": [
    "len(fd.type.unique())"
   ]
  },
  {
   "cell_type": "code",
   "execution_count": 85,
   "metadata": {},
   "outputs": [],
   "source": [
    "# imputing mode inplace of null values"
   ]
  },
  {
   "cell_type": "code",
   "execution_count": 86,
   "metadata": {},
   "outputs": [],
   "source": [
    "fd[\"type\"]=fd[\"type\"].fillna(fd.type.value_counts().index[0])"
   ]
  },
  {
   "cell_type": "code",
   "execution_count": 87,
   "metadata": {},
   "outputs": [
    {
     "data": {
      "text/plain": [
       "0"
      ]
     },
     "execution_count": 87,
     "metadata": {},
     "output_type": "execute_result"
    }
   ],
   "source": [
    "fd.type.isna().sum()"
   ]
  },
  {
   "cell_type": "code",
   "execution_count": 88,
   "metadata": {},
   "outputs": [],
   "source": [
    "# Label encoding to type variable"
   ]
  },
  {
   "cell_type": "code",
   "execution_count": 89,
   "metadata": {},
   "outputs": [],
   "source": [
    "le=LabelEncoder()\n",
    "fd[\"type\"]=le.fit_transform(fd[\"type\"])"
   ]
  },
  {
   "cell_type": "code",
   "execution_count": 90,
   "metadata": {},
   "outputs": [
    {
     "data": {
      "text/plain": [
       "dtype('int32')"
      ]
     },
     "execution_count": 90,
     "metadata": {},
     "output_type": "execute_result"
    }
   ],
   "source": [
    "fd.type.dtype"
   ]
  },
  {
   "cell_type": "code",
   "execution_count": 91,
   "metadata": {},
   "outputs": [],
   "source": [
    "# street"
   ]
  },
  {
   "cell_type": "code",
   "execution_count": 92,
   "metadata": {},
   "outputs": [
    {
     "data": {
      "text/plain": [
       "dtype('int64')"
      ]
     },
     "execution_count": 92,
     "metadata": {},
     "output_type": "execute_result"
    }
   ],
   "source": [
    "fd.street.dtype"
   ]
  },
  {
   "cell_type": "code",
   "execution_count": 93,
   "metadata": {},
   "outputs": [
    {
     "data": {
      "text/plain": [
       "0"
      ]
     },
     "execution_count": 93,
     "metadata": {},
     "output_type": "execute_result"
    }
   ],
   "source": [
    "fd.street.isna().sum()"
   ]
  },
  {
   "cell_type": "code",
   "execution_count": 94,
   "metadata": {},
   "outputs": [],
   "source": [
    "# city"
   ]
  },
  {
   "cell_type": "code",
   "execution_count": 95,
   "metadata": {},
   "outputs": [
    {
     "data": {
      "text/plain": [
       "dtype('O')"
      ]
     },
     "execution_count": 95,
     "metadata": {},
     "output_type": "execute_result"
    }
   ],
   "source": [
    "fd.city.dtype"
   ]
  },
  {
   "cell_type": "code",
   "execution_count": 96,
   "metadata": {},
   "outputs": [
    {
     "data": {
      "text/plain": [
       "0    id-11235901\n",
       "1    id-11235901\n",
       "Name: city, dtype: object"
      ]
     },
     "execution_count": 96,
     "metadata": {},
     "output_type": "execute_result"
    }
   ],
   "source": [
    "fd.city.head(2)"
   ]
  },
  {
   "cell_type": "code",
   "execution_count": 97,
   "metadata": {},
   "outputs": [
    {
     "data": {
      "text/plain": [
       "0"
      ]
     },
     "execution_count": 97,
     "metadata": {},
     "output_type": "execute_result"
    }
   ],
   "source": [
    "fd.city.isna().sum()"
   ]
  },
  {
   "cell_type": "code",
   "execution_count": 98,
   "metadata": {},
   "outputs": [],
   "source": [
    "# splitting character and numbers"
   ]
  },
  {
   "cell_type": "code",
   "execution_count": 99,
   "metadata": {},
   "outputs": [],
   "source": [
    "fd[[\"unknownid\",\"cityid\"]]=fd[\"city\"].str.split(\"-\",expand=True)"
   ]
  },
  {
   "cell_type": "code",
   "execution_count": 100,
   "metadata": {},
   "outputs": [],
   "source": [
    "# dropping unknownid and city col created just now"
   ]
  },
  {
   "cell_type": "code",
   "execution_count": 101,
   "metadata": {},
   "outputs": [],
   "source": [
    "fd.drop(\"unknownid\",axis=1,inplace=True)"
   ]
  },
  {
   "cell_type": "code",
   "execution_count": 102,
   "metadata": {},
   "outputs": [],
   "source": [
    "fd.drop(\"city\",axis=1,inplace=True)"
   ]
  },
  {
   "cell_type": "code",
   "execution_count": 103,
   "metadata": {},
   "outputs": [],
   "source": [
    "# changing data type from object to int"
   ]
  },
  {
   "cell_type": "code",
   "execution_count": 104,
   "metadata": {},
   "outputs": [],
   "source": [
    "fd.cityid=fd.cityid.astype(int)"
   ]
  },
  {
   "cell_type": "code",
   "execution_count": 105,
   "metadata": {},
   "outputs": [],
   "source": [
    "# state"
   ]
  },
  {
   "cell_type": "code",
   "execution_count": 106,
   "metadata": {},
   "outputs": [
    {
     "data": {
      "text/plain": [
       "dtype('O')"
      ]
     },
     "execution_count": 106,
     "metadata": {},
     "output_type": "execute_result"
    }
   ],
   "source": [
    "fd.state.dtype"
   ]
  },
  {
   "cell_type": "code",
   "execution_count": 107,
   "metadata": {},
   "outputs": [
    {
     "data": {
      "text/plain": [
       "0"
      ]
     },
     "execution_count": 107,
     "metadata": {},
     "output_type": "execute_result"
    }
   ],
   "source": [
    "fd.state.isna().sum()"
   ]
  },
  {
   "cell_type": "code",
   "execution_count": 108,
   "metadata": {},
   "outputs": [
    {
     "data": {
      "text/plain": [
       "0    id_1890134\n",
       "1    id_1890134\n",
       "Name: state, dtype: object"
      ]
     },
     "execution_count": 108,
     "metadata": {},
     "output_type": "execute_result"
    }
   ],
   "source": [
    "fd.state.head(2)"
   ]
  },
  {
   "cell_type": "code",
   "execution_count": 109,
   "metadata": {},
   "outputs": [],
   "source": [
    "# splitting into 2 columns"
   ]
  },
  {
   "cell_type": "code",
   "execution_count": 110,
   "metadata": {},
   "outputs": [],
   "source": [
    "fd[[\"unknownid\",\"stateid\"]]=fd.state.str.split(\"_\",expand=True)"
   ]
  },
  {
   "cell_type": "code",
   "execution_count": 111,
   "metadata": {},
   "outputs": [],
   "source": [
    "# dropping unknownid and state col"
   ]
  },
  {
   "cell_type": "code",
   "execution_count": 112,
   "metadata": {},
   "outputs": [],
   "source": [
    "fd.drop(\"unknownid\",axis=1,inplace=True)"
   ]
  },
  {
   "cell_type": "code",
   "execution_count": 113,
   "metadata": {},
   "outputs": [],
   "source": [
    "fd.drop(\"state\",axis=1,inplace=True)"
   ]
  },
  {
   "cell_type": "code",
   "execution_count": 114,
   "metadata": {},
   "outputs": [
    {
     "data": {
      "text/plain": [
       "dtype('O')"
      ]
     },
     "execution_count": 114,
     "metadata": {},
     "output_type": "execute_result"
    }
   ],
   "source": [
    "fd.stateid.dtype"
   ]
  },
  {
   "cell_type": "code",
   "execution_count": 115,
   "metadata": {},
   "outputs": [],
   "source": [
    "# changing datatype to int"
   ]
  },
  {
   "cell_type": "code",
   "execution_count": 116,
   "metadata": {},
   "outputs": [],
   "source": [
    "fd.stateid=fd.stateid.astype(int)"
   ]
  },
  {
   "cell_type": "code",
   "execution_count": 117,
   "metadata": {},
   "outputs": [],
   "source": [
    "# Locationid"
   ]
  },
  {
   "cell_type": "code",
   "execution_count": 118,
   "metadata": {},
   "outputs": [
    {
     "data": {
      "text/plain": [
       "0    81876.0\n",
       "1    81862.0\n",
       "Name: locationid, dtype: float64"
      ]
     },
     "execution_count": 118,
     "metadata": {},
     "output_type": "execute_result"
    }
   ],
   "source": [
    "fd.locationid.head(2)"
   ]
  },
  {
   "cell_type": "code",
   "execution_count": 119,
   "metadata": {},
   "outputs": [
    {
     "data": {
      "text/plain": [
       "dtype('float64')"
      ]
     },
     "execution_count": 119,
     "metadata": {},
     "output_type": "execute_result"
    }
   ],
   "source": [
    "fd.locationid.dtype"
   ]
  },
  {
   "cell_type": "code",
   "execution_count": 120,
   "metadata": {},
   "outputs": [
    {
     "data": {
      "text/plain": [
       "50"
      ]
     },
     "execution_count": 120,
     "metadata": {},
     "output_type": "execute_result"
    }
   ],
   "source": [
    "fd.locationid.isna().sum()"
   ]
  },
  {
   "cell_type": "code",
   "execution_count": 121,
   "metadata": {},
   "outputs": [],
   "source": [
    "fd.locationid.fillna(fd.locationid.mean(),inplace=True)"
   ]
  },
  {
   "cell_type": "code",
   "execution_count": 122,
   "metadata": {},
   "outputs": [
    {
     "data": {
      "text/plain": [
       "0"
      ]
     },
     "execution_count": 122,
     "metadata": {},
     "output_type": "execute_result"
    }
   ],
   "source": [
    "fd.locationid.isna().sum()"
   ]
  },
  {
   "cell_type": "code",
   "execution_count": 123,
   "metadata": {},
   "outputs": [],
   "source": [
    "fd.locationid=fd.locationid.astype(int)"
   ]
  },
  {
   "cell_type": "code",
   "execution_count": 124,
   "metadata": {},
   "outputs": [],
   "source": [
    "# reason"
   ]
  },
  {
   "cell_type": "code",
   "execution_count": 125,
   "metadata": {},
   "outputs": [
    {
     "data": {
      "text/plain": [
       "dtype('O')"
      ]
     },
     "execution_count": 125,
     "metadata": {},
     "output_type": "execute_result"
    }
   ],
   "source": [
    "fd.reason.dtype"
   ]
  },
  {
   "cell_type": "code",
   "execution_count": 126,
   "metadata": {},
   "outputs": [
    {
     "data": {
      "text/plain": [
       "0"
      ]
     },
     "execution_count": 126,
     "metadata": {},
     "output_type": "execute_result"
    }
   ],
   "source": [
    "fd.reason.isna().sum()"
   ]
  },
  {
   "cell_type": "code",
   "execution_count": 127,
   "metadata": {},
   "outputs": [
    {
     "data": {
      "text/plain": [
       "0      CANVASS\n",
       "1    COMPLAINT\n",
       "Name: reason, dtype: object"
      ]
     },
     "execution_count": 127,
     "metadata": {},
     "output_type": "execute_result"
    }
   ],
   "source": [
    "fd.reason.head(2)"
   ]
  },
  {
   "cell_type": "code",
   "execution_count": 128,
   "metadata": {},
   "outputs": [
    {
     "data": {
      "text/plain": [
       "17"
      ]
     },
     "execution_count": 128,
     "metadata": {},
     "output_type": "execute_result"
    }
   ],
   "source": [
    "len(fd.reason.unique())"
   ]
  },
  {
   "cell_type": "code",
   "execution_count": 129,
   "metadata": {},
   "outputs": [
    {
     "data": {
      "text/plain": [
       "CANVASS                                   104077\n",
       "LICENSE                                    26038\n",
       "CANVASS RE-INSPECTION                      20798\n",
       "COMPLAINT                                  18214\n",
       "LICENSE RE-INSPECTION                       9038\n",
       "COMPLAINT RE-INSPECTION                     7577\n",
       "SHORT FORM COMPLAINT                        6764\n",
       "SUSPECTED FOOD POISONING                     853\n",
       "CONSULTATION                                 666\n",
       "LICENSE-TASK FORCE                           605\n",
       "TAG REMOVAL                                  603\n",
       "RECENT INSPECTION                            337\n",
       "OUT OF BUSINESS                              305\n",
       "TASK FORCE LIQUOR 1475                       252\n",
       "SUSPECTED FOOD POISONING RE-INSPECTION       191\n",
       "COMPLAINT-FIRE                               160\n",
       "SHORT FORM FIRE-COMPLAINT                    113\n",
       "Name: reason, dtype: int64"
      ]
     },
     "execution_count": 129,
     "metadata": {},
     "output_type": "execute_result"
    }
   ],
   "source": [
    "fd.reason.value_counts()"
   ]
  },
  {
   "cell_type": "code",
   "execution_count": 130,
   "metadata": {},
   "outputs": [],
   "source": [
    "# applying label encoding"
   ]
  },
  {
   "cell_type": "code",
   "execution_count": 131,
   "metadata": {},
   "outputs": [],
   "source": [
    "le=LabelEncoder()\n",
    "fd[\"reason\"]=le.fit_transform(fd[\"reason\"])"
   ]
  },
  {
   "cell_type": "code",
   "execution_count": 132,
   "metadata": {},
   "outputs": [],
   "source": [
    "# sectionviolations"
   ]
  },
  {
   "cell_type": "code",
   "execution_count": 133,
   "metadata": {},
   "outputs": [
    {
     "data": {
      "text/plain": [
       "0    33.0\n",
       "1    33.0\n",
       "Name: sectionviolations, dtype: float64"
      ]
     },
     "execution_count": 133,
     "metadata": {},
     "output_type": "execute_result"
    }
   ],
   "source": [
    "fd.sectionviolations.head(2)"
   ]
  },
  {
   "cell_type": "code",
   "execution_count": 134,
   "metadata": {},
   "outputs": [
    {
     "data": {
      "text/plain": [
       "dtype('float64')"
      ]
     },
     "execution_count": 134,
     "metadata": {},
     "output_type": "execute_result"
    }
   ],
   "source": [
    "fd.sectionviolations.dtype"
   ]
  },
  {
   "cell_type": "code",
   "execution_count": 135,
   "metadata": {},
   "outputs": [
    {
     "data": {
      "text/plain": [
       "52044"
      ]
     },
     "execution_count": 135,
     "metadata": {},
     "output_type": "execute_result"
    }
   ],
   "source": [
    "fd.sectionviolations.isna().sum()"
   ]
  },
  {
   "cell_type": "code",
   "execution_count": 136,
   "metadata": {},
   "outputs": [],
   "source": [
    "# checking whether null values exceeds 30% of total rows"
   ]
  },
  {
   "cell_type": "code",
   "execution_count": 137,
   "metadata": {},
   "outputs": [
    {
     "data": {
      "text/plain": [
       "26.473236312954306"
      ]
     },
     "execution_count": 137,
     "metadata": {},
     "output_type": "execute_result"
    }
   ],
   "source": [
    "52044/196591*100"
   ]
  },
  {
   "cell_type": "code",
   "execution_count": 138,
   "metadata": {},
   "outputs": [],
   "source": [
    "fd.sectionviolations.fillna(fd.sectionviolations.mean(),inplace=True)"
   ]
  },
  {
   "cell_type": "code",
   "execution_count": 139,
   "metadata": {},
   "outputs": [
    {
     "data": {
      "text/plain": [
       "0"
      ]
     },
     "execution_count": 139,
     "metadata": {},
     "output_type": "execute_result"
    }
   ],
   "source": [
    "fd.sectionviolations.isna().sum()"
   ]
  },
  {
   "cell_type": "code",
   "execution_count": 140,
   "metadata": {},
   "outputs": [],
   "source": [
    "fd.sectionviolations=fd.sectionviolations.astype(int)"
   ]
  },
  {
   "cell_type": "code",
   "execution_count": 141,
   "metadata": {},
   "outputs": [],
   "source": [
    "# risklevel"
   ]
  },
  {
   "cell_type": "code",
   "execution_count": 142,
   "metadata": {},
   "outputs": [
    {
     "data": {
      "text/plain": [
       "0    High\n",
       "1    High\n",
       "Name: risklevel, dtype: object"
      ]
     },
     "execution_count": 142,
     "metadata": {},
     "output_type": "execute_result"
    }
   ],
   "source": [
    "fd.risklevel.head(2)"
   ]
  },
  {
   "cell_type": "code",
   "execution_count": 143,
   "metadata": {},
   "outputs": [
    {
     "data": {
      "text/plain": [
       "0"
      ]
     },
     "execution_count": 143,
     "metadata": {},
     "output_type": "execute_result"
    }
   ],
   "source": [
    "fd.risklevel.isna().sum()"
   ]
  },
  {
   "cell_type": "code",
   "execution_count": 144,
   "metadata": {},
   "outputs": [
    {
     "data": {
      "text/plain": [
       "dtype('O')"
      ]
     },
     "execution_count": 144,
     "metadata": {},
     "output_type": "execute_result"
    }
   ],
   "source": [
    "fd.risklevel.dtype"
   ]
  },
  {
   "cell_type": "code",
   "execution_count": 145,
   "metadata": {},
   "outputs": [
    {
     "data": {
      "text/plain": [
       "High         141076\n",
       "Medium        38374\n",
       "Low           17110\n",
       "Uncertain        31\n",
       "Name: risklevel, dtype: int64"
      ]
     },
     "execution_count": 145,
     "metadata": {},
     "output_type": "execute_result"
    }
   ],
   "source": [
    "fd.risklevel.value_counts()"
   ]
  },
  {
   "cell_type": "code",
   "execution_count": 146,
   "metadata": {},
   "outputs": [],
   "source": [
    "# applying one hot encoding"
   ]
  },
  {
   "cell_type": "code",
   "execution_count": 147,
   "metadata": {},
   "outputs": [],
   "source": [
    "fd=pd.get_dummies(fd, columns=[\"risklevel\"])"
   ]
  },
  {
   "cell_type": "code",
   "execution_count": 148,
   "metadata": {},
   "outputs": [],
   "source": [
    "# dropping risklevel_uncertain"
   ]
  },
  {
   "cell_type": "code",
   "execution_count": 149,
   "metadata": {},
   "outputs": [],
   "source": [
    "fd.drop(\"risklevel_Uncertain\",axis=1,inplace=True)"
   ]
  },
  {
   "cell_type": "code",
   "execution_count": 150,
   "metadata": {},
   "outputs": [],
   "source": [
    "# geo_loc"
   ]
  },
  {
   "cell_type": "code",
   "execution_count": 151,
   "metadata": {},
   "outputs": [
    {
     "data": {
      "text/plain": [
       "dtype('O')"
      ]
     },
     "execution_count": 151,
     "metadata": {},
     "output_type": "execute_result"
    }
   ],
   "source": [
    "fd.geo_loc.dtype"
   ]
  },
  {
   "cell_type": "code",
   "execution_count": 152,
   "metadata": {},
   "outputs": [
    {
     "data": {
      "text/plain": [
       "0    locid16406\n",
       "1      locid878\n",
       "Name: geo_loc, dtype: object"
      ]
     },
     "execution_count": 152,
     "metadata": {},
     "output_type": "execute_result"
    }
   ],
   "source": [
    "fd.geo_loc.head(2)"
   ]
  },
  {
   "cell_type": "code",
   "execution_count": 153,
   "metadata": {},
   "outputs": [
    {
     "data": {
      "text/plain": [
       "0"
      ]
     },
     "execution_count": 153,
     "metadata": {},
     "output_type": "execute_result"
    }
   ],
   "source": [
    "fd.geo_loc.isna().sum()"
   ]
  },
  {
   "cell_type": "code",
   "execution_count": 154,
   "metadata": {},
   "outputs": [],
   "source": [
    "fd[[\"unknownid\",\"geoloc_id\"]]=fd.geo_loc.str.split(\"d\",expand=True)"
   ]
  },
  {
   "cell_type": "code",
   "execution_count": 155,
   "metadata": {},
   "outputs": [],
   "source": [
    "fd.drop(\"unknownid\",axis=1,inplace=True)"
   ]
  },
  {
   "cell_type": "code",
   "execution_count": 156,
   "metadata": {},
   "outputs": [
    {
     "data": {
      "text/plain": [
       "0"
      ]
     },
     "execution_count": 156,
     "metadata": {},
     "output_type": "execute_result"
    }
   ],
   "source": [
    "fd.geoloc_id.isna().sum()"
   ]
  },
  {
   "cell_type": "code",
   "execution_count": 157,
   "metadata": {},
   "outputs": [
    {
     "data": {
      "text/plain": [
       "dtype('O')"
      ]
     },
     "execution_count": 157,
     "metadata": {},
     "output_type": "execute_result"
    }
   ],
   "source": [
    "fd.geoloc_id.dtype"
   ]
  },
  {
   "cell_type": "code",
   "execution_count": 158,
   "metadata": {},
   "outputs": [],
   "source": [
    "fd.geoloc_id=fd.geoloc_id.astype(int)"
   ]
  },
  {
   "cell_type": "code",
   "execution_count": 159,
   "metadata": {},
   "outputs": [
    {
     "data": {
      "text/plain": [
       "dtype('int32')"
      ]
     },
     "execution_count": 159,
     "metadata": {},
     "output_type": "execute_result"
    }
   ],
   "source": [
    "fd.geoloc_id.dtype"
   ]
  },
  {
   "cell_type": "code",
   "execution_count": 160,
   "metadata": {},
   "outputs": [],
   "source": [
    "# dropping geo_loc col"
   ]
  },
  {
   "cell_type": "code",
   "execution_count": 161,
   "metadata": {},
   "outputs": [],
   "source": [
    "fd.drop(\"geo_loc\",axis=1,inplace=True)"
   ]
  },
  {
   "cell_type": "code",
   "execution_count": 162,
   "metadata": {},
   "outputs": [],
   "source": [
    "# Everything looks perfect, lets see our data"
   ]
  },
  {
   "cell_type": "code",
   "execution_count": 163,
   "metadata": {},
   "outputs": [
    {
     "data": {
      "text/html": [
       "<div>\n",
       "<style scoped>\n",
       "    .dataframe tbody tr th:only-of-type {\n",
       "        vertical-align: middle;\n",
       "    }\n",
       "\n",
       "    .dataframe tbody tr th {\n",
       "        vertical-align: top;\n",
       "    }\n",
       "\n",
       "    .dataframe thead th {\n",
       "        text-align: right;\n",
       "    }\n",
       "</style>\n",
       "<table border=\"1\" class=\"dataframe\">\n",
       "  <thead>\n",
       "    <tr style=\"text-align: right;\">\n",
       "      <th></th>\n",
       "      <th>id</th>\n",
       "      <th>licenseno</th>\n",
       "      <th>facilityid</th>\n",
       "      <th>facilityname</th>\n",
       "      <th>type</th>\n",
       "      <th>street</th>\n",
       "      <th>locationid</th>\n",
       "      <th>reason</th>\n",
       "      <th>sectionviolations</th>\n",
       "      <th>inspection_results</th>\n",
       "      <th>day</th>\n",
       "      <th>month</th>\n",
       "      <th>year</th>\n",
       "      <th>cityid</th>\n",
       "      <th>stateid</th>\n",
       "      <th>risklevel_High</th>\n",
       "      <th>risklevel_Low</th>\n",
       "      <th>risklevel_Medium</th>\n",
       "      <th>geoloc_id</th>\n",
       "    </tr>\n",
       "  </thead>\n",
       "  <tbody>\n",
       "    <tr>\n",
       "      <td>0</td>\n",
       "      <td>31103489027986</td>\n",
       "      <td>4744</td>\n",
       "      <td>8123</td>\n",
       "      <td>7715</td>\n",
       "      <td>344</td>\n",
       "      <td>15522</td>\n",
       "      <td>81876</td>\n",
       "      <td>0</td>\n",
       "      <td>33</td>\n",
       "      <td>4.0</td>\n",
       "      <td>26</td>\n",
       "      <td>4</td>\n",
       "      <td>2010</td>\n",
       "      <td>11235901</td>\n",
       "      <td>1890134</td>\n",
       "      <td>1</td>\n",
       "      <td>0</td>\n",
       "      <td>0</td>\n",
       "      <td>16406</td>\n",
       "    </tr>\n",
       "    <tr>\n",
       "      <td>1</td>\n",
       "      <td>10088999935915</td>\n",
       "      <td>2973</td>\n",
       "      <td>12268</td>\n",
       "      <td>11664</td>\n",
       "      <td>185</td>\n",
       "      <td>3057</td>\n",
       "      <td>81862</td>\n",
       "      <td>2</td>\n",
       "      <td>33</td>\n",
       "      <td>4.0</td>\n",
       "      <td>21</td>\n",
       "      <td>6</td>\n",
       "      <td>2009</td>\n",
       "      <td>11235901</td>\n",
       "      <td>1890134</td>\n",
       "      <td>1</td>\n",
       "      <td>0</td>\n",
       "      <td>0</td>\n",
       "      <td>878</td>\n",
       "    </tr>\n",
       "    <tr>\n",
       "      <td>2</td>\n",
       "      <td>40148966010272</td>\n",
       "      <td>18223</td>\n",
       "      <td>1112</td>\n",
       "      <td>969</td>\n",
       "      <td>344</td>\n",
       "      <td>14988</td>\n",
       "      <td>81883</td>\n",
       "      <td>0</td>\n",
       "      <td>24</td>\n",
       "      <td>6.0</td>\n",
       "      <td>5</td>\n",
       "      <td>1</td>\n",
       "      <td>2013</td>\n",
       "      <td>11235901</td>\n",
       "      <td>1890134</td>\n",
       "      <td>1</td>\n",
       "      <td>0</td>\n",
       "      <td>0</td>\n",
       "      <td>3368</td>\n",
       "    </tr>\n",
       "  </tbody>\n",
       "</table>\n",
       "</div>"
      ],
      "text/plain": [
       "               id  licenseno  facilityid  facilityname  type  street  \\\n",
       "0  31103489027986       4744        8123          7715   344   15522   \n",
       "1  10088999935915       2973       12268         11664   185    3057   \n",
       "2  40148966010272      18223        1112           969   344   14988   \n",
       "\n",
       "   locationid  reason  sectionviolations  inspection_results  day  month  \\\n",
       "0       81876       0                 33                 4.0   26      4   \n",
       "1       81862       2                 33                 4.0   21      6   \n",
       "2       81883       0                 24                 6.0    5      1   \n",
       "\n",
       "   year    cityid  stateid  risklevel_High  risklevel_Low  risklevel_Medium  \\\n",
       "0  2010  11235901  1890134               1              0                 0   \n",
       "1  2009  11235901  1890134               1              0                 0   \n",
       "2  2013  11235901  1890134               1              0                 0   \n",
       "\n",
       "   geoloc_id  \n",
       "0      16406  \n",
       "1        878  \n",
       "2       3368  "
      ]
     },
     "execution_count": 163,
     "metadata": {},
     "output_type": "execute_result"
    }
   ],
   "source": [
    "fd.head(3)"
   ]
  },
  {
   "cell_type": "code",
   "execution_count": 164,
   "metadata": {},
   "outputs": [
    {
     "data": {
      "text/plain": [
       "id                      int64\n",
       "licenseno               int64\n",
       "facilityid              int64\n",
       "facilityname            int64\n",
       "type                    int32\n",
       "street                  int64\n",
       "locationid              int32\n",
       "reason                  int32\n",
       "sectionviolations       int32\n",
       "inspection_results    float64\n",
       "day                     int32\n",
       "month                   int32\n",
       "year                    int32\n",
       "cityid                  int32\n",
       "stateid                 int32\n",
       "risklevel_High          uint8\n",
       "risklevel_Low           uint8\n",
       "risklevel_Medium        uint8\n",
       "geoloc_id               int32\n",
       "dtype: object"
      ]
     },
     "execution_count": 164,
     "metadata": {},
     "output_type": "execute_result"
    }
   ],
   "source": [
    "fd.dtypes"
   ]
  },
  {
   "cell_type": "code",
   "execution_count": 165,
   "metadata": {},
   "outputs": [],
   "source": [
    "# divide our data and take out test data"
   ]
  },
  {
   "cell_type": "code",
   "execution_count": 166,
   "metadata": {},
   "outputs": [],
   "source": [
    "train=fd.iloc[:147443]"
   ]
  },
  {
   "cell_type": "code",
   "execution_count": 167,
   "metadata": {},
   "outputs": [
    {
     "data": {
      "text/plain": [
       "id                    0\n",
       "licenseno             0\n",
       "facilityid            0\n",
       "facilityname          0\n",
       "type                  0\n",
       "street                0\n",
       "locationid            0\n",
       "reason                0\n",
       "sectionviolations     0\n",
       "inspection_results    0\n",
       "day                   0\n",
       "month                 0\n",
       "year                  0\n",
       "cityid                0\n",
       "stateid               0\n",
       "risklevel_High        0\n",
       "risklevel_Low         0\n",
       "risklevel_Medium      0\n",
       "geoloc_id             0\n",
       "dtype: int64"
      ]
     },
     "execution_count": 167,
     "metadata": {},
     "output_type": "execute_result"
    }
   ],
   "source": [
    "train.isna().sum()"
   ]
  },
  {
   "cell_type": "code",
   "execution_count": 168,
   "metadata": {},
   "outputs": [],
   "source": [
    "test=fd.iloc[147443:]"
   ]
  },
  {
   "cell_type": "code",
   "execution_count": 169,
   "metadata": {},
   "outputs": [
    {
     "data": {
      "text/plain": [
       "id                        0\n",
       "licenseno                 0\n",
       "facilityid                0\n",
       "facilityname              0\n",
       "type                      0\n",
       "street                    0\n",
       "locationid                0\n",
       "reason                    0\n",
       "sectionviolations         0\n",
       "inspection_results    49148\n",
       "day                       0\n",
       "month                     0\n",
       "year                      0\n",
       "cityid                    0\n",
       "stateid                   0\n",
       "risklevel_High            0\n",
       "risklevel_Low             0\n",
       "risklevel_Medium          0\n",
       "geoloc_id                 0\n",
       "dtype: int64"
      ]
     },
     "execution_count": 169,
     "metadata": {},
     "output_type": "execute_result"
    }
   ],
   "source": [
    "test.isna().sum()"
   ]
  },
  {
   "cell_type": "code",
   "execution_count": 170,
   "metadata": {},
   "outputs": [],
   "source": [
    "# Data Visualization for train dataset"
   ]
  },
  {
   "cell_type": "code",
   "execution_count": 171,
   "metadata": {},
   "outputs": [],
   "source": [
    "# glance of train dataset"
   ]
  },
  {
   "cell_type": "code",
   "execution_count": 172,
   "metadata": {},
   "outputs": [
    {
     "data": {
      "text/html": [
       "<div>\n",
       "<style scoped>\n",
       "    .dataframe tbody tr th:only-of-type {\n",
       "        vertical-align: middle;\n",
       "    }\n",
       "\n",
       "    .dataframe tbody tr th {\n",
       "        vertical-align: top;\n",
       "    }\n",
       "\n",
       "    .dataframe thead th {\n",
       "        text-align: right;\n",
       "    }\n",
       "</style>\n",
       "<table border=\"1\" class=\"dataframe\">\n",
       "  <thead>\n",
       "    <tr style=\"text-align: right;\">\n",
       "      <th></th>\n",
       "      <th>id</th>\n",
       "      <th>licenseno</th>\n",
       "      <th>facilityid</th>\n",
       "      <th>facilityname</th>\n",
       "      <th>type</th>\n",
       "      <th>street</th>\n",
       "      <th>locationid</th>\n",
       "      <th>reason</th>\n",
       "      <th>sectionviolations</th>\n",
       "      <th>inspection_results</th>\n",
       "      <th>day</th>\n",
       "      <th>month</th>\n",
       "      <th>year</th>\n",
       "      <th>cityid</th>\n",
       "      <th>stateid</th>\n",
       "      <th>risklevel_High</th>\n",
       "      <th>risklevel_Low</th>\n",
       "      <th>risklevel_Medium</th>\n",
       "      <th>geoloc_id</th>\n",
       "    </tr>\n",
       "  </thead>\n",
       "  <tbody>\n",
       "    <tr>\n",
       "      <td>0</td>\n",
       "      <td>31103489027986</td>\n",
       "      <td>4744</td>\n",
       "      <td>8123</td>\n",
       "      <td>7715</td>\n",
       "      <td>344</td>\n",
       "      <td>15522</td>\n",
       "      <td>81876</td>\n",
       "      <td>0</td>\n",
       "      <td>33</td>\n",
       "      <td>4.0</td>\n",
       "      <td>26</td>\n",
       "      <td>4</td>\n",
       "      <td>2010</td>\n",
       "      <td>11235901</td>\n",
       "      <td>1890134</td>\n",
       "      <td>1</td>\n",
       "      <td>0</td>\n",
       "      <td>0</td>\n",
       "      <td>16406</td>\n",
       "    </tr>\n",
       "    <tr>\n",
       "      <td>1</td>\n",
       "      <td>10088999935915</td>\n",
       "      <td>2973</td>\n",
       "      <td>12268</td>\n",
       "      <td>11664</td>\n",
       "      <td>185</td>\n",
       "      <td>3057</td>\n",
       "      <td>81862</td>\n",
       "      <td>2</td>\n",
       "      <td>33</td>\n",
       "      <td>4.0</td>\n",
       "      <td>21</td>\n",
       "      <td>6</td>\n",
       "      <td>2009</td>\n",
       "      <td>11235901</td>\n",
       "      <td>1890134</td>\n",
       "      <td>1</td>\n",
       "      <td>0</td>\n",
       "      <td>0</td>\n",
       "      <td>878</td>\n",
       "    </tr>\n",
       "    <tr>\n",
       "      <td>2</td>\n",
       "      <td>40148966010272</td>\n",
       "      <td>18223</td>\n",
       "      <td>1112</td>\n",
       "      <td>969</td>\n",
       "      <td>344</td>\n",
       "      <td>14988</td>\n",
       "      <td>81883</td>\n",
       "      <td>0</td>\n",
       "      <td>24</td>\n",
       "      <td>6.0</td>\n",
       "      <td>5</td>\n",
       "      <td>1</td>\n",
       "      <td>2013</td>\n",
       "      <td>11235901</td>\n",
       "      <td>1890134</td>\n",
       "      <td>1</td>\n",
       "      <td>0</td>\n",
       "      <td>0</td>\n",
       "      <td>3368</td>\n",
       "    </tr>\n",
       "  </tbody>\n",
       "</table>\n",
       "</div>"
      ],
      "text/plain": [
       "               id  licenseno  facilityid  facilityname  type  street  \\\n",
       "0  31103489027986       4744        8123          7715   344   15522   \n",
       "1  10088999935915       2973       12268         11664   185    3057   \n",
       "2  40148966010272      18223        1112           969   344   14988   \n",
       "\n",
       "   locationid  reason  sectionviolations  inspection_results  day  month  \\\n",
       "0       81876       0                 33                 4.0   26      4   \n",
       "1       81862       2                 33                 4.0   21      6   \n",
       "2       81883       0                 24                 6.0    5      1   \n",
       "\n",
       "   year    cityid  stateid  risklevel_High  risklevel_Low  risklevel_Medium  \\\n",
       "0  2010  11235901  1890134               1              0                 0   \n",
       "1  2009  11235901  1890134               1              0                 0   \n",
       "2  2013  11235901  1890134               1              0                 0   \n",
       "\n",
       "   geoloc_id  \n",
       "0      16406  \n",
       "1        878  \n",
       "2       3368  "
      ]
     },
     "execution_count": 172,
     "metadata": {},
     "output_type": "execute_result"
    }
   ],
   "source": [
    "train.head(3)"
   ]
  },
  {
   "cell_type": "code",
   "execution_count": 173,
   "metadata": {},
   "outputs": [],
   "source": [
    "# countplot"
   ]
  },
  {
   "cell_type": "code",
   "execution_count": 174,
   "metadata": {},
   "outputs": [
    {
     "data": {
      "text/plain": [
       "<matplotlib.axes._subplots.AxesSubplot at 0x19750460278>"
      ]
     },
     "execution_count": 174,
     "metadata": {},
     "output_type": "execute_result"
    },
    {
     "data": {
      "image/png": "[encoded data removed]",
      "text/plain": [
       "<Figure size 432x288 with 1 Axes>"
      ]
     },
     "metadata": {
      "needs_background": "light"
     },
     "output_type": "display_data"
    }
   ],
   "source": [
    "sns.countplot(x=\"reason\",hue=\"inspection_results\",data=train)"
   ]
  },
  {
   "cell_type": "code",
   "execution_count": 175,
   "metadata": {},
   "outputs": [],
   "source": [
    "# barplot"
   ]
  },
  {
   "cell_type": "code",
   "execution_count": 176,
   "metadata": {},
   "outputs": [
    {
     "data": {
      "text/plain": [
       "<matplotlib.axes._subplots.AxesSubplot at 0x197557138d0>"
      ]
     },
     "execution_count": 176,
     "metadata": {},
     "output_type": "execute_result"
    },
    {
     "data": {
      "image/png": "[encoded data removed]",
      "text/plain": [
       "<Figure size 432x288 with 1 Axes>"
      ]
     },
     "metadata": {
      "needs_background": "light"
     },
     "output_type": "display_data"
    }
   ],
   "source": [
    "sns.barplot(x=\"reason\",y=\"inspection_results\",data=train)"
   ]
  },
  {
   "cell_type": "code",
   "execution_count": 177,
   "metadata": {},
   "outputs": [],
   "source": [
    "# pair plot"
   ]
  },
  {
   "cell_type": "code",
   "execution_count": 178,
   "metadata": {},
   "outputs": [],
   "source": [
    "# sns.pairplot(train,hue=\"inspection_results\")"
   ]
  },
  {
   "cell_type": "code",
   "execution_count": 179,
   "metadata": {},
   "outputs": [],
   "source": [
    "# histogram"
   ]
  },
  {
   "cell_type": "code",
   "execution_count": 180,
   "metadata": {},
   "outputs": [
    {
     "data": {
      "image/png": "[encoded data removed]",
      "text/plain": [
       "<Figure size 720x576 with 20 Axes>"
      ]
     },
     "metadata": {
      "needs_background": "light"
     },
     "output_type": "display_data"
    }
   ],
   "source": [
    "train.hist(figsize=(10,8))\n",
    "plt.show()"
   ]
  },
  {
   "cell_type": "code",
   "execution_count": null,
   "metadata": {},
   "outputs": [],
   "source": []
  },
  {
   "cell_type": "code",
   "execution_count": null,
   "metadata": {},
   "outputs": [],
   "source": []
  },
  {
   "cell_type": "code",
   "execution_count": 181,
   "metadata": {},
   "outputs": [],
   "source": [
    "# heatmap"
   ]
  },
  {
   "cell_type": "code",
   "execution_count": 182,
   "metadata": {},
   "outputs": [
    {
     "data": {
      "text/plain": [
       "<matplotlib.axes._subplots.AxesSubplot at 0x19752632e80>"
      ]
     },
     "execution_count": 182,
     "metadata": {},
     "output_type": "execute_result"
    },
    {
     "data": {
      "image/png": "[encoded data removed]",
      "text/plain": [
       "<Figure size 720x576 with 2 Axes>"
      ]
     },
     "metadata": {
      "needs_background": "light"
     },
     "output_type": "display_data"
    }
   ],
   "source": [
    "fig=plt.figure(figsize=(10,8))\n",
    "train_corr=train.corr()\n",
    "sns.heatmap(train_corr,annot=True,cmap=\"RdYlGn\")"
   ]
  },
  {
   "cell_type": "code",
   "execution_count": 183,
   "metadata": {},
   "outputs": [],
   "source": [
    "# dividing dataset into dependent and independent variables"
   ]
  },
  {
   "cell_type": "code",
   "execution_count": 242,
   "metadata": {},
   "outputs": [],
   "source": [
    "y=train[\"inspection_results\"]\n",
    "x=train.drop(\"inspection_results\",axis=1)"
   ]
  },
  {
   "cell_type": "code",
   "execution_count": 185,
   "metadata": {},
   "outputs": [],
   "source": [
    "# Important features using extratrees"
   ]
  },
  {
   "cell_type": "code",
   "execution_count": 186,
   "metadata": {},
   "outputs": [
    {
     "name": "stderr",
     "output_type": "stream",
     "text": [
      "c:\\users\\acer\\appdata\\local\\programs\\python\\python36\\lib\\site-packages\\sklearn\\ensemble\\forest.py:245: FutureWarning: The default value of n_estimators will change from 10 in version 0.20 to 100 in 0.22.\n",
      "  \"10 in version 0.20 to 100 in 0.22.\", FutureWarning)\n"
     ]
    },
    {
     "name": "stdout",
     "output_type": "stream",
     "text": [
      "[4.40865209e-02 5.04765351e-02 3.94961172e-02 3.97280449e-02\n",
      " 2.49912935e-02 4.14078361e-02 3.90916987e-02 7.96551536e-02\n",
      " 4.49725786e-01 4.47567264e-02 3.87564446e-02 4.92547033e-02\n",
      " 4.11658062e-04 6.86256219e-05 2.64693467e-03 8.32923463e-03\n",
      " 2.55280379e-03 4.45638833e-02]\n"
     ]
    },
    {
     "data": {
      "image/png": "[encoded data removed]",
      "text/plain": [
       "<Figure size 432x288 with 1 Axes>"
      ]
     },
     "metadata": {
      "needs_background": "light"
     },
     "output_type": "display_data"
    }
   ],
   "source": [
    "model = ExtraTreesClassifier()\n",
    "model.fit(x,y)\n",
    "print(model.feature_importances_) #use inbuilt class feature_importances of tree based classifiers\n",
    "#plot graph of feature importances for better visualization\n",
    "feat_importances = pd.Series(model.feature_importances_, index=x.columns)\n",
    "feat_importances.nlargest(18).plot(kind='barh')\n",
    "plt.show()"
   ]
  },
  {
   "cell_type": "code",
   "execution_count": 187,
   "metadata": {},
   "outputs": [],
   "source": [
    "# using chi2"
   ]
  },
  {
   "cell_type": "code",
   "execution_count": 188,
   "metadata": {},
   "outputs": [
    {
     "name": "stdout",
     "output_type": "stream",
     "text": [
      "                Specs         Score\n",
      "0                  id  5.761564e+13\n",
      "1           licenseno  1.453513e+07\n",
      "17          geoloc_id  1.008604e+06\n",
      "8   sectionviolations  4.509922e+05\n",
      "2          facilityid  2.182215e+05\n",
      "3        facilityname  1.104402e+05\n",
      "5              street  8.906402e+04\n",
      "7              reason  4.447119e+04\n",
      "4                type  7.002443e+03\n",
      "15      risklevel_Low  5.759702e+03\n",
      "14     risklevel_High  1.027132e+03\n",
      "10              month  5.154631e+02\n",
      "9                 day  2.276005e+02\n",
      "16   risklevel_Medium  1.766958e+02\n",
      "11               year  3.979678e+01\n",
      "12             cityid  2.799446e+01\n",
      "6          locationid  2.230661e+00\n",
      "13            stateid  3.502542e-09\n"
     ]
    }
   ],
   "source": [
    "#apply SelectKBest class to extract top 10 best features\n",
    "bestfeatures = SelectKBest(score_func=chi2, k=18)\n",
    "fit = bestfeatures.fit(x,y)\n",
    "dfscores = pd.DataFrame(fit.scores_)\n",
    "#dfscores=round(dfscores,2)\n",
    "dfcolumns = pd.DataFrame(x.columns)\n",
    "#concat two dataframes for better visualization \n",
    "featureScores = pd.concat([dfcolumns,dfscores],axis=1)\n",
    "featureScores.columns = ['Specs','Score']  #naming the dataframe columns\n",
    "print(featureScores.nlargest(18,'Score'))  #print 10 best features"
   ]
  },
  {
   "cell_type": "code",
   "execution_count": 189,
   "metadata": {},
   "outputs": [],
   "source": [
    "# checking for multi collinearity using vif"
   ]
  },
  {
   "cell_type": "code",
   "execution_count": 190,
   "metadata": {},
   "outputs": [
    {
     "name": "stdout",
     "output_type": "stream",
     "text": [
      "      VIF Factor           features\n",
      "0   1.000045e+00                 id\n",
      "1   1.087878e+00          licenseno\n",
      "2   6.349124e+00         facilityid\n",
      "3   6.339466e+00       facilityname\n",
      "4   1.072791e+00               type\n",
      "5   1.002699e+00             street\n",
      "6   1.019801e+00         locationid\n",
      "7   1.057613e+00             reason\n",
      "8   1.033187e+00  sectionviolations\n",
      "9   1.003240e+00                day\n",
      "10  1.009376e+00              month\n",
      "11  1.138353e+00               year\n",
      "12  1.023130e+00             cityid\n",
      "13  3.909782e-09            stateid\n",
      "14  1.423960e+03     risklevel_High\n",
      "15  5.590497e+02      risklevel_Low\n",
      "16  1.104862e+03   risklevel_Medium\n",
      "17  1.024245e+00          geoloc_id\n"
     ]
    }
   ],
   "source": [
    "vif = pd.DataFrame()\n",
    "vif[\"VIF Factor\"] = [variance_inflation_factor(x.values, i) for i in range(x.shape[1])]\n",
    "vif[\"features\"] = x.columns\n",
    "print(vif)"
   ]
  },
  {
   "cell_type": "code",
   "execution_count": 243,
   "metadata": {},
   "outputs": [],
   "source": [
    "y=y.astype(int)"
   ]
  },
  {
   "cell_type": "code",
   "execution_count": 192,
   "metadata": {},
   "outputs": [],
   "source": [
    "# Dividing dataset into train test split"
   ]
  },
  {
   "cell_type": "code",
   "execution_count": 193,
   "metadata": {},
   "outputs": [],
   "source": [
    "x_train,x_test,y_train,y_test=train_test_split(x,y,test_size=0.3,random_state=42)"
   ]
  },
  {
   "cell_type": "code",
   "execution_count": 194,
   "metadata": {},
   "outputs": [],
   "source": [
    "# Printing the shape of splitted dataset"
   ]
  },
  {
   "cell_type": "code",
   "execution_count": 195,
   "metadata": {},
   "outputs": [
    {
     "name": "stdout",
     "output_type": "stream",
     "text": [
      "shape of x_train is: (103210, 18)\n",
      "shape of y_train is: (103210,)\n",
      "shape of x_test is: (44233, 18)\n",
      "shape of y_test is: (44233,)\n"
     ]
    }
   ],
   "source": [
    "print(\"shape of x_train is:\",x_train.shape)\n",
    "print(\"shape of y_train is:\",y_train.shape)\n",
    "print(\"shape of x_test is:\",x_test.shape)\n",
    "print(\"shape of y_test is:\",y_test.shape)"
   ]
  },
  {
   "cell_type": "code",
   "execution_count": 196,
   "metadata": {},
   "outputs": [],
   "source": [
    "# Lets apply ML algo and see which result best"
   ]
  },
  {
   "cell_type": "code",
   "execution_count": 197,
   "metadata": {},
   "outputs": [],
   "source": [
    "lda=LinearDiscriminantAnalysis()\n",
    "lda.fit(x_train,y_train)\n",
    "prediction=lda.predict(x_test)"
   ]
  },
  {
   "cell_type": "code",
   "execution_count": 198,
   "metadata": {},
   "outputs": [
    {
     "name": "stdout",
     "output_type": "stream",
     "text": [
      "        Act  Predicted\n",
      "109354    1          5\n",
      "63473     1          1\n",
      "98966     5          5\n",
      "4272      4          4\n",
      "96436     1          1\n",
      "...     ...        ...\n",
      "54993     4          4\n",
      "61339     1          1\n",
      "54580     6          6\n",
      "129462    4          4\n",
      "68159     6          4\n",
      "\n",
      "[44233 rows x 2 columns]\n"
     ]
    }
   ],
   "source": [
    "output=pd.DataFrame({\"Act\":y_test,\"Predicted\":prediction})\n",
    "print(output)"
   ]
  },
  {
   "cell_type": "code",
   "execution_count": 199,
   "metadata": {},
   "outputs": [
    {
     "name": "stdout",
     "output_type": "stream",
     "text": [
      "accuracy score is 0.7219270680261344\n",
      "Kappa is : 0.5205209063043994\n",
      "Sensitiviy is : 0.7219270680261344\n",
      "Precision is : 0.7219270680261344\n",
      "R2 score is: 0.000748723570983878\n",
      "array([[    0,     0,     1,     0,    12,     0,     3],\n",
      "       [   10,  4022,    15,     0,  1876,  2397,   238],\n",
      "       [    4,     0,     3,     0,   426,     6,     4],\n",
      "       [    2,    33,     2,     0,  1417,     6,    37],\n",
      "       [   42,    40,    30,     0, 23091,    99,   356],\n",
      "       [   10,  1009,    13,     0,  1308,  3804,    70],\n",
      "       [    9,     2,     0,     0,  2823,     0,  1013]], dtype=int64)\n",
      "('              precision    recall  f1-score   support\\n'\n",
      " '\\n'\n",
      " '           0       0.00      0.00      0.00        16\\n'\n",
      " '           1       0.79      0.47      0.59      8558\\n'\n",
      " '           2       0.05      0.01      0.01       443\\n'\n",
      " '           3       0.00      0.00      0.00      1497\\n'\n",
      " '           4       0.75      0.98      0.85     23658\\n'\n",
      " '           5       0.60      0.61      0.61      6214\\n'\n",
      " '           6       0.59      0.26      0.36      3847\\n'\n",
      " '\\n'\n",
      " '    accuracy                           0.72     44233\\n'\n",
      " '   macro avg       0.40      0.33      0.35     44233\\n'\n",
      " 'weighted avg       0.69      0.72      0.68     44233\\n')\n"
     ]
    },
    {
     "name": "stderr",
     "output_type": "stream",
     "text": [
      "c:\\users\\acer\\appdata\\local\\programs\\python\\python36\\lib\\site-packages\\sklearn\\metrics\\classification.py:1259: UserWarning: Note that pos_label (set to 'positive') is ignored when average != 'binary' (got 'micro'). You may use labels=[pos_label] to specify a single positive class.\n",
      "  % (pos_label, average), UserWarning)\n",
      "c:\\users\\acer\\appdata\\local\\programs\\python\\python36\\lib\\site-packages\\sklearn\\metrics\\classification.py:1437: UndefinedMetricWarning: Precision and F-score are ill-defined and being set to 0.0 in labels with no predicted samples.\n",
      "  'precision', 'predicted', average, warn_for)\n"
     ]
    }
   ],
   "source": [
    "print(\"accuracy score is {}\".format(accuracy_score(y_test,prediction)))\n",
    "print(\"Kappa is :\",cohen_kappa_score(y_test,prediction))\n",
    "print(\"Sensitiviy is :\",recall_score(y_test, prediction,pos_label=\"positive\",average=\"micro\"))\n",
    "print(\"Precision is :\",precision_score(y_test, prediction,pos_label=\"positive\",average=\"micro\"))\n",
    "print(\"R2 score is:\",r2_score(y_test,prediction))\n",
    "# fpr, tpr, thresholds = roc_curve(y_test,prediction)\n",
    "# print(\"Area under curve is  :{}\".format(auc(fpr,tpr)))\n",
    "pprint(confusion_matrix(y_test, prediction))\n",
    "pprint(classification_report(y_test, prediction))"
   ]
  },
  {
   "cell_type": "code",
   "execution_count": 200,
   "metadata": {},
   "outputs": [],
   "source": [
    "# Using many different methods to see which one best fits data"
   ]
  },
  {
   "cell_type": "code",
   "execution_count": 201,
   "metadata": {},
   "outputs": [
    {
     "name": "stderr",
     "output_type": "stream",
     "text": [
      "c:\\users\\acer\\appdata\\local\\programs\\python\\python36\\lib\\site-packages\\sklearn\\linear_model\\logistic.py:432: FutureWarning: Default solver will be changed to 'lbfgs' in 0.22. Specify a solver to silence this warning.\n",
      "  FutureWarning)\n",
      "c:\\users\\acer\\appdata\\local\\programs\\python\\python36\\lib\\site-packages\\sklearn\\linear_model\\logistic.py:469: FutureWarning: Default multi_class will be changed to 'auto' in 0.22. Specify the multi_class option to silence this warning.\n",
      "  \"this warning.\", FutureWarning)\n"
     ]
    }
   ],
   "source": [
    "lr=LogisticRegression()\n",
    "lr.fit(x_train,y_train)\n",
    "prediction=lr.predict(x_test)"
   ]
  },
  {
   "cell_type": "code",
   "execution_count": 202,
   "metadata": {},
   "outputs": [
    {
     "name": "stdout",
     "output_type": "stream",
     "text": [
      "        Act  Predicted\n",
      "109354    1          4\n",
      "63473     1          4\n",
      "98966     5          4\n",
      "4272      4          4\n",
      "96436     1          4\n",
      "...     ...        ...\n",
      "54993     4          4\n",
      "61339     1          4\n",
      "54580     6          4\n",
      "129462    4          4\n",
      "68159     6          4\n",
      "\n",
      "[44233 rows x 2 columns]\n"
     ]
    }
   ],
   "source": [
    "output=pd.DataFrame({\"Act\":y_test,\"Predicted\":prediction})\n",
    "print(output)"
   ]
  },
  {
   "cell_type": "code",
   "execution_count": 203,
   "metadata": {},
   "outputs": [
    {
     "name": "stdout",
     "output_type": "stream",
     "text": [
      "accuracy score is 0.5348495467185134\n",
      "Kappa is : 0.0\n",
      "Sensitiviy is : 0.5348495467185134\n",
      "Precision is : 0.5348495467185134\n",
      "R2 score is: -0.0468009992508136\n",
      "array([[    0,     0,     0,     0,    16,     0,     0],\n",
      "       [    0,     0,     0,     0,  8558,     0,     0],\n",
      "       [    0,     0,     0,     0,   443,     0,     0],\n",
      "       [    0,     0,     0,     0,  1497,     0,     0],\n",
      "       [    0,     0,     0,     0, 23658,     0,     0],\n",
      "       [    0,     0,     0,     0,  6214,     0,     0],\n",
      "       [    0,     0,     0,     0,  3847,     0,     0]], dtype=int64)\n",
      "('              precision    recall  f1-score   support\\n'\n",
      " '\\n'\n",
      " '           0       0.00      0.00      0.00        16\\n'\n",
      " '           1       0.00      0.00      0.00      8558\\n'\n",
      " '           2       0.00      0.00      0.00       443\\n'\n",
      " '           3       0.00      0.00      0.00      1497\\n'\n",
      " '           4       0.53      1.00      0.70     23658\\n'\n",
      " '           5       0.00      0.00      0.00      6214\\n'\n",
      " '           6       0.00      0.00      0.00      3847\\n'\n",
      " '\\n'\n",
      " '    accuracy                           0.53     44233\\n'\n",
      " '   macro avg       0.08      0.14      0.10     44233\\n'\n",
      " 'weighted avg       0.29      0.53      0.37     44233\\n')\n"
     ]
    },
    {
     "name": "stderr",
     "output_type": "stream",
     "text": [
      "c:\\users\\acer\\appdata\\local\\programs\\python\\python36\\lib\\site-packages\\sklearn\\metrics\\classification.py:1259: UserWarning: Note that pos_label (set to 'positive') is ignored when average != 'binary' (got 'micro'). You may use labels=[pos_label] to specify a single positive class.\n",
      "  % (pos_label, average), UserWarning)\n",
      "c:\\users\\acer\\appdata\\local\\programs\\python\\python36\\lib\\site-packages\\sklearn\\metrics\\classification.py:1437: UndefinedMetricWarning: Precision and F-score are ill-defined and being set to 0.0 in labels with no predicted samples.\n",
      "  'precision', 'predicted', average, warn_for)\n"
     ]
    }
   ],
   "source": [
    "print(\"accuracy score is {}\".format(accuracy_score(y_test,prediction)))\n",
    "print(\"Kappa is :\",cohen_kappa_score(y_test,prediction))\n",
    "print(\"Sensitiviy is :\",recall_score(y_test, prediction,pos_label=\"positive\",average=\"micro\"))\n",
    "print(\"Precision is :\",precision_score(y_test, prediction,pos_label=\"positive\",average=\"micro\"))\n",
    "print(\"R2 score is:\",r2_score(y_test,prediction))\n",
    "# fpr, tpr, thresholds = roc_curve(y_test,prediction)\n",
    "# print(\"Area under curve is  :{}\".format(auc(fpr,tpr)))\n",
    "pprint(confusion_matrix(y_test, prediction))\n",
    "pprint(classification_report(y_test, prediction))"
   ]
  },
  {
   "cell_type": "code",
   "execution_count": 204,
   "metadata": {},
   "outputs": [
    {
     "name": "stderr",
     "output_type": "stream",
     "text": [
      "c:\\users\\acer\\appdata\\local\\programs\\python\\python36\\lib\\site-packages\\sklearn\\discriminant_analysis.py:693: UserWarning: Variables are collinear\n",
      "  warnings.warn(\"Variables are collinear\")\n"
     ]
    }
   ],
   "source": [
    "qda=QuadraticDiscriminantAnalysis()\n",
    "qda.fit(x_train,y_train)\n",
    "prediction=qda.predict(x_test)"
   ]
  },
  {
   "cell_type": "code",
   "execution_count": 205,
   "metadata": {},
   "outputs": [
    {
     "name": "stdout",
     "output_type": "stream",
     "text": [
      "        Act  Predicted\n",
      "109354    1          4\n",
      "63473     1          3\n",
      "98966     5          4\n",
      "4272      4          4\n",
      "96436     1          4\n",
      "...     ...        ...\n",
      "54993     4          4\n",
      "61339     1          4\n",
      "54580     6          0\n",
      "129462    4          4\n",
      "68159     6          0\n",
      "\n",
      "[44233 rows x 2 columns]\n"
     ]
    }
   ],
   "source": [
    "output=pd.DataFrame({\"Act\":y_test,\"Predicted\":prediction})\n",
    "print(output)"
   ]
  },
  {
   "cell_type": "code",
   "execution_count": 206,
   "metadata": {},
   "outputs": [
    {
     "name": "stdout",
     "output_type": "stream",
     "text": [
      "accuracy score is 0.4569439106549409\n",
      "Kappa is : 0.17574517561210512\n",
      "Sensitiviy is : 0.4569439106549409\n",
      "Precision is : 0.4569439106549409\n",
      "R2 score is: -2.0237422122775826\n",
      "array([[   14,     0,     1,     0,     1,     0,     0],\n",
      "       [  693,     4,    11,   373,  5212,  2265,     0],\n",
      "       [  386,     0,     5,     0,    49,     3,     0],\n",
      "       [ 1147,     0,     3,   154,   177,    16,     0],\n",
      "       [ 4365,    17,    38,  1566, 17591,    81,     0],\n",
      "       [  111,     2,    12,   199,  3446,  2444,     0],\n",
      "       [ 3158,     1,     3,   389,   286,    10,     0]], dtype=int64)\n",
      "('              precision    recall  f1-score   support\\n'\n",
      " '\\n'\n",
      " '           0       0.00      0.88      0.00        16\\n'\n",
      " '           1       0.17      0.00      0.00      8558\\n'\n",
      " '           2       0.07      0.01      0.02       443\\n'\n",
      " '           3       0.06      0.10      0.07      1497\\n'\n",
      " '           4       0.66      0.74      0.70     23658\\n'\n",
      " '           5       0.51      0.39      0.44      6214\\n'\n",
      " '           6       0.00      0.00      0.00      3847\\n'\n",
      " '\\n'\n",
      " '    accuracy                           0.46     44233\\n'\n",
      " '   macro avg       0.21      0.30      0.18     44233\\n'\n",
      " 'weighted avg       0.46      0.46      0.44     44233\\n')\n"
     ]
    },
    {
     "name": "stderr",
     "output_type": "stream",
     "text": [
      "c:\\users\\acer\\appdata\\local\\programs\\python\\python36\\lib\\site-packages\\sklearn\\metrics\\classification.py:1259: UserWarning: Note that pos_label (set to 'positive') is ignored when average != 'binary' (got 'micro'). You may use labels=[pos_label] to specify a single positive class.\n",
      "  % (pos_label, average), UserWarning)\n",
      "c:\\users\\acer\\appdata\\local\\programs\\python\\python36\\lib\\site-packages\\sklearn\\metrics\\classification.py:1437: UndefinedMetricWarning: Precision and F-score are ill-defined and being set to 0.0 in labels with no predicted samples.\n",
      "  'precision', 'predicted', average, warn_for)\n"
     ]
    }
   ],
   "source": [
    "print(\"accuracy score is {}\".format(accuracy_score(y_test,prediction)))\n",
    "print(\"Kappa is :\",cohen_kappa_score(y_test,prediction))\n",
    "print(\"Sensitiviy is :\",recall_score(y_test, prediction,pos_label=\"positive\",average=\"micro\"))\n",
    "print(\"Precision is :\",precision_score(y_test, prediction,pos_label=\"positive\",average=\"micro\"))\n",
    "print(\"R2 score is:\",r2_score(y_test,prediction))\n",
    "# fpr, tpr, thresholds = roc_curve(y_test,prediction)\n",
    "# print(\"Area under curve is  :{}\".format(auc(fpr,tpr)))\n",
    "pprint(confusion_matrix(y_test, prediction))\n",
    "pprint(classification_report(y_test, prediction))"
   ]
  },
  {
   "cell_type": "code",
   "execution_count": 207,
   "metadata": {},
   "outputs": [],
   "source": [
    "dt=DecisionTreeClassifier(criterion=\"entropy\",max_depth=20)\n",
    "dt.fit(x_train,y_train)\n",
    "prediction=dt.predict(x_test)"
   ]
  },
  {
   "cell_type": "code",
   "execution_count": 208,
   "metadata": {},
   "outputs": [
    {
     "name": "stdout",
     "output_type": "stream",
     "text": [
      "        Act  Predicted\n",
      "109354    1          1\n",
      "63473     1          1\n",
      "98966     5          5\n",
      "4272      4          4\n",
      "96436     1          1\n",
      "...     ...        ...\n",
      "54993     4          4\n",
      "61339     1          1\n",
      "54580     6          6\n",
      "129462    4          4\n",
      "68159     6          6\n",
      "\n",
      "[44233 rows x 2 columns]\n"
     ]
    }
   ],
   "source": [
    "output=pd.DataFrame({\"Act\":y_test,\"Predicted\":prediction})\n",
    "print(output)"
   ]
  },
  {
   "cell_type": "code",
   "execution_count": 209,
   "metadata": {},
   "outputs": [
    {
     "name": "stdout",
     "output_type": "stream",
     "text": [
      "accuracy score is 0.8123346822508082\n",
      "Kappa is : 0.7099221102381852\n",
      "Sensitiviy is : 0.8123346822508082\n",
      "Precision is : 0.8123346822508082\n",
      "R2 score is: 0.05432414402623309\n",
      "array([[    0,     1,     1,     1,     4,     0,     9],\n",
      "       [    1,  5770,    33,    74,   603,  1944,   133],\n",
      "       [    0,    37,   206,    22,   157,    15,     6],\n",
      "       [    0,    64,    34,   598,   199,    15,   587],\n",
      "       [    2,   453,   139,   172, 22330,   247,   315],\n",
      "       [    0,  1819,    22,    23,   219,  4116,    15],\n",
      "       [    3,   126,     3,   502,   282,    19,  2912]], dtype=int64)\n",
      "('              precision    recall  f1-score   support\\n'\n",
      " '\\n'\n",
      " '           0       0.00      0.00      0.00        16\\n'\n",
      " '           1       0.70      0.67      0.69      8558\\n'\n",
      " '           2       0.47      0.47      0.47       443\\n'\n",
      " '           3       0.43      0.40      0.41      1497\\n'\n",
      " '           4       0.94      0.94      0.94     23658\\n'\n",
      " '           5       0.65      0.66      0.65      6214\\n'\n",
      " '           6       0.73      0.76      0.74      3847\\n'\n",
      " '\\n'\n",
      " '    accuracy                           0.81     44233\\n'\n",
      " '   macro avg       0.56      0.56      0.56     44233\\n'\n",
      " 'weighted avg       0.81      0.81      0.81     44233\\n')\n"
     ]
    },
    {
     "name": "stderr",
     "output_type": "stream",
     "text": [
      "c:\\users\\acer\\appdata\\local\\programs\\python\\python36\\lib\\site-packages\\sklearn\\metrics\\classification.py:1259: UserWarning: Note that pos_label (set to 'positive') is ignored when average != 'binary' (got 'micro'). You may use labels=[pos_label] to specify a single positive class.\n",
      "  % (pos_label, average), UserWarning)\n"
     ]
    }
   ],
   "source": [
    "print(\"accuracy score is {}\".format(accuracy_score(y_test,prediction)))\n",
    "print(\"Kappa is :\",cohen_kappa_score(y_test,prediction))\n",
    "print(\"Sensitiviy is :\",recall_score(y_test, prediction,pos_label=\"positive\",average=\"micro\"))\n",
    "print(\"Precision is :\",precision_score(y_test, prediction,pos_label=\"positive\",average=\"micro\"))\n",
    "print(\"R2 score is:\",r2_score(y_test,prediction))\n",
    "# fpr, tpr, thresholds = roc_curve(y_test,prediction)\n",
    "# print(\"Area under curve is  :{}\".format(auc(fpr,tpr)))\n",
    "pprint(confusion_matrix(y_test, prediction))\n",
    "pprint(classification_report(y_test, prediction))"
   ]
  },
  {
   "cell_type": "code",
   "execution_count": 210,
   "metadata": {},
   "outputs": [
    {
     "name": "stderr",
     "output_type": "stream",
     "text": [
      "c:\\users\\acer\\appdata\\local\\programs\\python\\python36\\lib\\site-packages\\sklearn\\ensemble\\forest.py:245: FutureWarning: The default value of n_estimators will change from 10 in version 0.20 to 100 in 0.22.\n",
      "  \"10 in version 0.20 to 100 in 0.22.\", FutureWarning)\n"
     ]
    }
   ],
   "source": [
    "rf=RandomForestClassifier()\n",
    "rf.fit(x_train,y_train)\n",
    "prediction=rf.predict(x_test)"
   ]
  },
  {
   "cell_type": "code",
   "execution_count": 211,
   "metadata": {},
   "outputs": [
    {
     "name": "stdout",
     "output_type": "stream",
     "text": [
      "        Act  Predicted\n",
      "109354    1          1\n",
      "63473     1          1\n",
      "98966     5          5\n",
      "4272      4          4\n",
      "96436     1          1\n",
      "...     ...        ...\n",
      "54993     4          4\n",
      "61339     1          1\n",
      "54580     6          6\n",
      "129462    4          4\n",
      "68159     6          6\n",
      "\n",
      "[44233 rows x 2 columns]\n"
     ]
    }
   ],
   "source": [
    "output=pd.DataFrame({\"Act\":y_test,\"Predicted\":prediction})\n",
    "print(output)"
   ]
  },
  {
   "cell_type": "code",
   "execution_count": 212,
   "metadata": {},
   "outputs": [
    {
     "name": "stdout",
     "output_type": "stream",
     "text": [
      "accuracy score is 0.8353265661384035\n",
      "Kappa is : 0.7431072666181019\n",
      "Sensitiviy is : 0.8353265661384035\n",
      "Precision is : 0.8353265661384035\n",
      "R2 score is: 0.16180291405964042\n",
      "array([[    0,     0,     0,     2,     6,     0,     8],\n",
      "       [    0,  6196,    30,    27,   659,  1500,   146],\n",
      "       [    0,    19,   188,     6,   218,     5,     7],\n",
      "       [    0,    72,    30,   535,   265,    12,   583],\n",
      "       [    0,   290,   105,    79, 22772,    76,   336],\n",
      "       [    0,  1904,    23,     8,   238,  4016,    25],\n",
      "       [    1,    46,     1,   363,   194,     0,  3242]], dtype=int64)\n",
      "('              precision    recall  f1-score   support\\n'\n",
      " '\\n'\n",
      " '           0       0.00      0.00      0.00        16\\n'\n",
      " '           1       0.73      0.72      0.73      8558\\n'\n",
      " '           2       0.50      0.42      0.46       443\\n'\n",
      " '           3       0.52      0.36      0.43      1497\\n'\n",
      " '           4       0.94      0.96      0.95     23658\\n'\n",
      " '           5       0.72      0.65      0.68      6214\\n'\n",
      " '           6       0.75      0.84      0.79      3847\\n'\n",
      " '\\n'\n",
      " '    accuracy                           0.84     44233\\n'\n",
      " '   macro avg       0.59      0.57      0.58     44233\\n'\n",
      " 'weighted avg       0.83      0.84      0.83     44233\\n')\n"
     ]
    },
    {
     "name": "stderr",
     "output_type": "stream",
     "text": [
      "c:\\users\\acer\\appdata\\local\\programs\\python\\python36\\lib\\site-packages\\sklearn\\metrics\\classification.py:1259: UserWarning: Note that pos_label (set to 'positive') is ignored when average != 'binary' (got 'micro'). You may use labels=[pos_label] to specify a single positive class.\n",
      "  % (pos_label, average), UserWarning)\n"
     ]
    }
   ],
   "source": [
    "print(\"accuracy score is {}\".format(accuracy_score(y_test,prediction)))\n",
    "print(\"Kappa is :\",cohen_kappa_score(y_test,prediction))\n",
    "print(\"Sensitiviy is :\",recall_score(y_test, prediction,pos_label=\"positive\",average=\"micro\"))\n",
    "print(\"Precision is :\",precision_score(y_test, prediction,pos_label=\"positive\",average=\"micro\"))\n",
    "print(\"R2 score is:\",r2_score(y_test,prediction))\n",
    "# fpr, tpr, thresholds = roc_curve(y_test,prediction)\n",
    "# print(\"Area under curve is  :{}\".format(auc(fpr,tpr)))\n",
    "pprint(confusion_matrix(y_test, prediction))\n",
    "pprint(classification_report(y_test, prediction))"
   ]
  },
  {
   "cell_type": "code",
   "execution_count": 213,
   "metadata": {},
   "outputs": [],
   "source": [
    "knn=KNeighborsClassifier()\n",
    "knn.fit(x_train,y_train)\n",
    "prediction=knn.predict(x_test)"
   ]
  },
  {
   "cell_type": "code",
   "execution_count": 214,
   "metadata": {},
   "outputs": [
    {
     "name": "stdout",
     "output_type": "stream",
     "text": [
      "        Act  Predicted\n",
      "109354    1          4\n",
      "63473     1          4\n",
      "98966     5          4\n",
      "4272      4          4\n",
      "96436     1          4\n",
      "...     ...        ...\n",
      "54993     4          4\n",
      "61339     1          4\n",
      "54580     6          4\n",
      "129462    4          4\n",
      "68159     6          4\n",
      "\n",
      "[44233 rows x 2 columns]\n"
     ]
    }
   ],
   "source": [
    "output=pd.DataFrame({\"Act\":y_test,\"Predicted\":prediction})\n",
    "print(output)"
   ]
  },
  {
   "cell_type": "code",
   "execution_count": 215,
   "metadata": {},
   "outputs": [
    {
     "name": "stdout",
     "output_type": "stream",
     "text": [
      "accuracy score is 0.44421585693938914\n",
      "Kappa is : 0.004925708193721845\n",
      "Sensitiviy is : 0.44421585693938914\n",
      "Precision is : 0.44421585693938914\n",
      "R2 score is: -0.7316502290908766\n",
      "array([[    0,     5,     0,     0,    10,     1,     0],\n",
      "       [    1,  1668,     4,    67,  6318,   362,   138],\n",
      "       [    0,    84,     0,     6,   316,    30,     7],\n",
      "       [    0,   282,     1,    13,  1104,    76,    21],\n",
      "       [    2,  4488,    24,   155, 17629,   986,   374],\n",
      "       [    1,  1191,     4,    45,  4615,   267,    91],\n",
      "       [    0,   764,     3,    22,  2819,   167,    72]], dtype=int64)\n",
      "('              precision    recall  f1-score   support\\n'\n",
      " '\\n'\n",
      " '           0       0.00      0.00      0.00        16\\n'\n",
      " '           1       0.20      0.19      0.20      8558\\n'\n",
      " '           2       0.00      0.00      0.00       443\\n'\n",
      " '           3       0.04      0.01      0.01      1497\\n'\n",
      " '           4       0.54      0.75      0.62     23658\\n'\n",
      " '           5       0.14      0.04      0.07      6214\\n'\n",
      " '           6       0.10      0.02      0.03      3847\\n'\n",
      " '\\n'\n",
      " '    accuracy                           0.44     44233\\n'\n",
      " '   macro avg       0.15      0.14      0.13     44233\\n'\n",
      " 'weighted avg       0.36      0.44      0.38     44233\\n')\n"
     ]
    },
    {
     "name": "stderr",
     "output_type": "stream",
     "text": [
      "c:\\users\\acer\\appdata\\local\\programs\\python\\python36\\lib\\site-packages\\sklearn\\metrics\\classification.py:1259: UserWarning: Note that pos_label (set to 'positive') is ignored when average != 'binary' (got 'micro'). You may use labels=[pos_label] to specify a single positive class.\n",
      "  % (pos_label, average), UserWarning)\n"
     ]
    }
   ],
   "source": [
    "print(\"accuracy score is {}\".format(accuracy_score(y_test,prediction)))\n",
    "print(\"Kappa is :\",cohen_kappa_score(y_test,prediction))\n",
    "print(\"Sensitiviy is :\",recall_score(y_test, prediction,pos_label=\"positive\",average=\"micro\"))\n",
    "print(\"Precision is :\",precision_score(y_test, prediction,pos_label=\"positive\",average=\"micro\"))\n",
    "print(\"R2 score is:\",r2_score(y_test,prediction))\n",
    "# fpr, tpr, thresholds = roc_curve(y_test,prediction)\n",
    "# print(\"Area under curve is  :{}\".format(auc(fpr,tpr)))\n",
    "pprint(confusion_matrix(y_test, prediction))\n",
    "pprint(classification_report(y_test, prediction))"
   ]
  },
  {
   "cell_type": "code",
   "execution_count": null,
   "metadata": {},
   "outputs": [],
   "source": []
  },
  {
   "cell_type": "code",
   "execution_count": null,
   "metadata": {},
   "outputs": [],
   "source": []
  },
  {
   "cell_type": "code",
   "execution_count": null,
   "metadata": {},
   "outputs": [],
   "source": []
  },
  {
   "cell_type": "code",
   "execution_count": 216,
   "metadata": {},
   "outputs": [],
   "source": [
    "bc=BaggingClassifier()\n",
    "bc.fit(x_train,y_train)\n",
    "prediction=bc.predict(x_test)"
   ]
  },
  {
   "cell_type": "code",
   "execution_count": 217,
   "metadata": {},
   "outputs": [
    {
     "name": "stdout",
     "output_type": "stream",
     "text": [
      "        Act  Predicted\n",
      "109354    1          1\n",
      "63473     1          1\n",
      "98966     5          5\n",
      "4272      4          4\n",
      "96436     1          1\n",
      "...     ...        ...\n",
      "54993     4          4\n",
      "61339     1          1\n",
      "54580     6          6\n",
      "129462    4          4\n",
      "68159     6          6\n",
      "\n",
      "[44233 rows x 2 columns]\n"
     ]
    }
   ],
   "source": [
    "output=pd.DataFrame({\"Act\":y_test,\"Predicted\":prediction})\n",
    "print(output)"
   ]
  },
  {
   "cell_type": "code",
   "execution_count": 218,
   "metadata": {},
   "outputs": [
    {
     "name": "stdout",
     "output_type": "stream",
     "text": [
      "accuracy score is 0.8390794203422783\n",
      "Kappa is : 0.7508466852981881\n",
      "Sensitiviy is : 0.8390794203422783\n",
      "Precision is : 0.8390794203422783\n",
      "R2 score is: 0.1671010189516381\n",
      "array([[    1,     0,     1,     2,     3,     0,     9],\n",
      "       [    0,  6197,    31,    50,   515,  1628,   137],\n",
      "       [    0,    20,   244,    10,   158,     8,     3],\n",
      "       [    0,    65,    30,   663,   173,     9,   557],\n",
      "       [    0,   356,   131,   115, 22652,   111,   293],\n",
      "       [    0,  1832,    20,    11,   189,  4147,    15],\n",
      "       [    0,    40,     0,   401,   193,     2,  3211]], dtype=int64)\n",
      "('              precision    recall  f1-score   support\\n'\n",
      " '\\n'\n",
      " '           0       1.00      0.06      0.12        16\\n'\n",
      " '           1       0.73      0.72      0.73      8558\\n'\n",
      " '           2       0.53      0.55      0.54       443\\n'\n",
      " '           3       0.53      0.44      0.48      1497\\n'\n",
      " '           4       0.95      0.96      0.95     23658\\n'\n",
      " '           5       0.70      0.67      0.68      6214\\n'\n",
      " '           6       0.76      0.83      0.80      3847\\n'\n",
      " '\\n'\n",
      " '    accuracy                           0.84     44233\\n'\n",
      " '   macro avg       0.74      0.61      0.61     44233\\n'\n",
      " 'weighted avg       0.84      0.84      0.84     44233\\n')\n"
     ]
    },
    {
     "name": "stderr",
     "output_type": "stream",
     "text": [
      "c:\\users\\acer\\appdata\\local\\programs\\python\\python36\\lib\\site-packages\\sklearn\\metrics\\classification.py:1259: UserWarning: Note that pos_label (set to 'positive') is ignored when average != 'binary' (got 'micro'). You may use labels=[pos_label] to specify a single positive class.\n",
      "  % (pos_label, average), UserWarning)\n"
     ]
    }
   ],
   "source": [
    "print(\"accuracy score is {}\".format(accuracy_score(y_test,prediction)))\n",
    "print(\"Kappa is :\",cohen_kappa_score(y_test,prediction))\n",
    "print(\"Sensitiviy is :\",recall_score(y_test, prediction,pos_label=\"positive\",average=\"micro\"))\n",
    "print(\"Precision is :\",precision_score(y_test, prediction,pos_label=\"positive\",average=\"micro\"))\n",
    "print(\"R2 score is:\",r2_score(y_test,prediction))\n",
    "# fpr, tpr, thresholds = roc_curve(y_test,prediction)\n",
    "# print(\"Area under curve is  :{}\".format(auc(fpr,tpr)))\n",
    "pprint(confusion_matrix(y_test, prediction))\n",
    "pprint(classification_report(y_test, prediction))"
   ]
  },
  {
   "cell_type": "code",
   "execution_count": 219,
   "metadata": {},
   "outputs": [
    {
     "name": "stderr",
     "output_type": "stream",
     "text": [
      "c:\\users\\acer\\appdata\\local\\programs\\python\\python36\\lib\\site-packages\\sklearn\\ensemble\\forest.py:245: FutureWarning: The default value of n_estimators will change from 10 in version 0.20 to 100 in 0.22.\n",
      "  \"10 in version 0.20 to 100 in 0.22.\", FutureWarning)\n"
     ]
    }
   ],
   "source": [
    "etc=ExtraTreesClassifier()\n",
    "etc.fit(x_train,y_train)\n",
    "prediction=etc.predict(x_test)"
   ]
  },
  {
   "cell_type": "code",
   "execution_count": 220,
   "metadata": {},
   "outputs": [
    {
     "name": "stdout",
     "output_type": "stream",
     "text": [
      "        Act  Predicted\n",
      "109354    1          1\n",
      "63473     1          1\n",
      "98966     5          1\n",
      "4272      4          4\n",
      "96436     1          1\n",
      "...     ...        ...\n",
      "54993     4          4\n",
      "61339     1          1\n",
      "54580     6          6\n",
      "129462    4          4\n",
      "68159     6          6\n",
      "\n",
      "[44233 rows x 2 columns]\n"
     ]
    }
   ],
   "source": [
    "output=pd.DataFrame({\"Act\":y_test,\"Predicted\":prediction})\n",
    "print(output)"
   ]
  },
  {
   "cell_type": "code",
   "execution_count": 221,
   "metadata": {},
   "outputs": [
    {
     "name": "stdout",
     "output_type": "stream",
     "text": [
      "accuracy score is 0.8061402120588701\n",
      "Kappa is : 0.6920460878442501\n",
      "Sensitiviy is : 0.8061402120588701\n",
      "Precision is : 0.8061402120588701\n",
      "R2 score is: 0.07186835210186171\n",
      "array([[    0,     1,     0,     1,     6,     0,     8],\n",
      "       [    0,  5644,    15,    24,  1159,  1588,   128],\n",
      "       [    0,    29,   163,     4,   235,    11,     1],\n",
      "       [    0,    90,    24,   514,   376,    18,   475],\n",
      "       [    0,   350,    87,    67, 22807,    91,   256],\n",
      "       [    0,  1950,    22,    22,   481,  3689,    50],\n",
      "       [    0,   112,     0,   361,   517,    16,  2841]], dtype=int64)\n",
      "('              precision    recall  f1-score   support\\n'\n",
      " '\\n'\n",
      " '           0       0.00      0.00      0.00        16\\n'\n",
      " '           1       0.69      0.66      0.67      8558\\n'\n",
      " '           2       0.52      0.37      0.43       443\\n'\n",
      " '           3       0.52      0.34      0.41      1497\\n'\n",
      " '           4       0.89      0.96      0.93     23658\\n'\n",
      " '           5       0.68      0.59      0.63      6214\\n'\n",
      " '           6       0.76      0.74      0.75      3847\\n'\n",
      " '\\n'\n",
      " '    accuracy                           0.81     44233\\n'\n",
      " '   macro avg       0.58      0.52      0.55     44233\\n'\n",
      " 'weighted avg       0.79      0.81      0.80     44233\\n')\n"
     ]
    },
    {
     "name": "stderr",
     "output_type": "stream",
     "text": [
      "c:\\users\\acer\\appdata\\local\\programs\\python\\python36\\lib\\site-packages\\sklearn\\metrics\\classification.py:1259: UserWarning: Note that pos_label (set to 'positive') is ignored when average != 'binary' (got 'micro'). You may use labels=[pos_label] to specify a single positive class.\n",
      "  % (pos_label, average), UserWarning)\n",
      "c:\\users\\acer\\appdata\\local\\programs\\python\\python36\\lib\\site-packages\\sklearn\\metrics\\classification.py:1437: UndefinedMetricWarning: Precision and F-score are ill-defined and being set to 0.0 in labels with no predicted samples.\n",
      "  'precision', 'predicted', average, warn_for)\n"
     ]
    }
   ],
   "source": [
    "print(\"accuracy score is {}\".format(accuracy_score(y_test,prediction)))\n",
    "print(\"Kappa is :\",cohen_kappa_score(y_test,prediction))\n",
    "print(\"Sensitiviy is :\",recall_score(y_test, prediction,pos_label=\"positive\",average=\"micro\"))\n",
    "print(\"Precision is :\",precision_score(y_test, prediction,pos_label=\"positive\",average=\"micro\"))\n",
    "print(\"R2 score is:\",r2_score(y_test,prediction))\n",
    "# fpr, tpr, thresholds = roc_curve(y_test,prediction)\n",
    "# print(\"Area under curve is  :{}\".format(auc(fpr,tpr)))\n",
    "pprint(confusion_matrix(y_test, prediction))\n",
    "pprint(classification_report(y_test, prediction))"
   ]
  },
  {
   "cell_type": "code",
   "execution_count": 222,
   "metadata": {},
   "outputs": [],
   "source": [
    "gnb=GaussianNB()\n",
    "gnb.fit(x_train,y_train)\n",
    "prediction=gnb.predict(x_test)"
   ]
  },
  {
   "cell_type": "code",
   "execution_count": 223,
   "metadata": {},
   "outputs": [
    {
     "name": "stdout",
     "output_type": "stream",
     "text": [
      "        Act  Predicted\n",
      "109354    1          4\n",
      "63473     1          4\n",
      "98966     5          4\n",
      "4272      4          4\n",
      "96436     1          4\n",
      "...     ...        ...\n",
      "54993     4          4\n",
      "61339     1          4\n",
      "54580     6          4\n",
      "129462    4          4\n",
      "68159     6          4\n",
      "\n",
      "[44233 rows x 2 columns]\n"
     ]
    }
   ],
   "source": [
    "output=pd.DataFrame({\"Act\":y_test,\"Predicted\":prediction})\n",
    "print(output)"
   ]
  },
  {
   "cell_type": "code",
   "execution_count": 224,
   "metadata": {},
   "outputs": [
    {
     "name": "stdout",
     "output_type": "stream",
     "text": [
      "accuracy score is 0.5348495467185134\n",
      "Kappa is : 0.0\n",
      "Sensitiviy is : 0.5348495467185134\n",
      "Precision is : 0.5348495467185134\n",
      "R2 score is: -0.0468009992508136\n",
      "array([[    0,     0,     0,     0,    16,     0,     0],\n",
      "       [    0,     0,     0,     0,  8558,     0,     0],\n",
      "       [    0,     0,     0,     0,   443,     0,     0],\n",
      "       [    0,     0,     0,     0,  1497,     0,     0],\n",
      "       [    0,     0,     0,     0, 23658,     0,     0],\n",
      "       [    0,     0,     0,     0,  6214,     0,     0],\n",
      "       [    0,     0,     0,     0,  3847,     0,     0]], dtype=int64)\n",
      "('              precision    recall  f1-score   support\\n'\n",
      " '\\n'\n",
      " '           0       0.00      0.00      0.00        16\\n'\n",
      " '           1       0.00      0.00      0.00      8558\\n'\n",
      " '           2       0.00      0.00      0.00       443\\n'\n",
      " '           3       0.00      0.00      0.00      1497\\n'\n",
      " '           4       0.53      1.00      0.70     23658\\n'\n",
      " '           5       0.00      0.00      0.00      6214\\n'\n",
      " '           6       0.00      0.00      0.00      3847\\n'\n",
      " '\\n'\n",
      " '    accuracy                           0.53     44233\\n'\n",
      " '   macro avg       0.08      0.14      0.10     44233\\n'\n",
      " 'weighted avg       0.29      0.53      0.37     44233\\n')\n"
     ]
    },
    {
     "name": "stderr",
     "output_type": "stream",
     "text": [
      "c:\\users\\acer\\appdata\\local\\programs\\python\\python36\\lib\\site-packages\\sklearn\\metrics\\classification.py:1259: UserWarning: Note that pos_label (set to 'positive') is ignored when average != 'binary' (got 'micro'). You may use labels=[pos_label] to specify a single positive class.\n",
      "  % (pos_label, average), UserWarning)\n",
      "c:\\users\\acer\\appdata\\local\\programs\\python\\python36\\lib\\site-packages\\sklearn\\metrics\\classification.py:1437: UndefinedMetricWarning: Precision and F-score are ill-defined and being set to 0.0 in labels with no predicted samples.\n",
      "  'precision', 'predicted', average, warn_for)\n"
     ]
    }
   ],
   "source": [
    "print(\"accuracy score is {}\".format(accuracy_score(y_test,prediction)))\n",
    "print(\"Kappa is :\",cohen_kappa_score(y_test,prediction))\n",
    "print(\"Sensitiviy is :\",recall_score(y_test, prediction,pos_label=\"positive\",average=\"micro\"))\n",
    "print(\"Precision is :\",precision_score(y_test, prediction,pos_label=\"positive\",average=\"micro\"))\n",
    "print(\"R2 score is:\",r2_score(y_test,prediction))\n",
    "# fpr, tpr, thresholds = roc_curve(y_test,prediction)\n",
    "# print(\"Area under curve is  :{}\".format(auc(fpr,tpr)))\n",
    "pprint(confusion_matrix(y_test, prediction))\n",
    "pprint(classification_report(y_test, prediction))"
   ]
  },
  {
   "cell_type": "code",
   "execution_count": 225,
   "metadata": {},
   "outputs": [],
   "source": [
    "sgd=SGDClassifier()\n",
    "sgd.fit(x_train,y_train)\n",
    "prediction=sgd.predict(x_test)"
   ]
  },
  {
   "cell_type": "code",
   "execution_count": 226,
   "metadata": {},
   "outputs": [
    {
     "name": "stdout",
     "output_type": "stream",
     "text": [
      "        Act  Predicted\n",
      "109354    1          5\n",
      "63473     1          5\n",
      "98966     5          5\n",
      "4272      4          5\n",
      "96436     1          5\n",
      "...     ...        ...\n",
      "54993     4          5\n",
      "61339     1          5\n",
      "54580     6          5\n",
      "129462    4          5\n",
      "68159     6          5\n",
      "\n",
      "[44233 rows x 2 columns]\n"
     ]
    }
   ],
   "source": [
    "output=pd.DataFrame({\"Act\":y_test,\"Predicted\":prediction})\n",
    "print(output)"
   ]
  },
  {
   "cell_type": "code",
   "execution_count": 227,
   "metadata": {},
   "outputs": [
    {
     "name": "stdout",
     "output_type": "stream",
     "text": [
      "accuracy score is 0.14048334953541475\n",
      "Kappa is : 0.0\n",
      "Sensitiviy is : 0.14048334953541475\n",
      "Precision is : 0.14048334953541475\n",
      "R2 score is: -0.7913948161708504\n",
      "array([[    0,     0,     0,     0,     0,    16,     0],\n",
      "       [    0,     0,     0,     0,     0,  8558,     0],\n",
      "       [    0,     0,     0,     0,     0,   443,     0],\n",
      "       [    0,     0,     0,     0,     0,  1497,     0],\n",
      "       [    0,     0,     0,     0,     0, 23658,     0],\n",
      "       [    0,     0,     0,     0,     0,  6214,     0],\n",
      "       [    0,     0,     0,     0,     0,  3847,     0]], dtype=int64)\n",
      "('              precision    recall  f1-score   support\\n'\n",
      " '\\n'\n",
      " '           0       0.00      0.00      0.00        16\\n'\n",
      " '           1       0.00      0.00      0.00      8558\\n'\n",
      " '           2       0.00      0.00      0.00       443\\n'\n",
      " '           3       0.00      0.00      0.00      1497\\n'\n",
      " '           4       0.00      0.00      0.00     23658\\n'\n",
      " '           5       0.14      1.00      0.25      6214\\n'\n",
      " '           6       0.00      0.00      0.00      3847\\n'\n",
      " '\\n'\n",
      " '    accuracy                           0.14     44233\\n'\n",
      " '   macro avg       0.02      0.14      0.04     44233\\n'\n",
      " 'weighted avg       0.02      0.14      0.03     44233\\n')\n"
     ]
    },
    {
     "name": "stderr",
     "output_type": "stream",
     "text": [
      "c:\\users\\acer\\appdata\\local\\programs\\python\\python36\\lib\\site-packages\\sklearn\\metrics\\classification.py:1259: UserWarning: Note that pos_label (set to 'positive') is ignored when average != 'binary' (got 'micro'). You may use labels=[pos_label] to specify a single positive class.\n",
      "  % (pos_label, average), UserWarning)\n",
      "c:\\users\\acer\\appdata\\local\\programs\\python\\python36\\lib\\site-packages\\sklearn\\metrics\\classification.py:1437: UndefinedMetricWarning: Precision and F-score are ill-defined and being set to 0.0 in labels with no predicted samples.\n",
      "  'precision', 'predicted', average, warn_for)\n"
     ]
    }
   ],
   "source": [
    "print(\"accuracy score is {}\".format(accuracy_score(y_test,prediction)))\n",
    "print(\"Kappa is :\",cohen_kappa_score(y_test,prediction))\n",
    "print(\"Sensitiviy is :\",recall_score(y_test, prediction,pos_label=\"positive\",average=\"micro\"))\n",
    "print(\"Precision is :\",precision_score(y_test, prediction,pos_label=\"positive\",average=\"micro\"))\n",
    "print(\"R2 score is:\",r2_score(y_test,prediction))\n",
    "# fpr, tpr, thresholds = roc_curve(y_test,prediction)\n",
    "# print(\"Area under curve is  :{}\".format(auc(fpr,tpr)))\n",
    "pprint(confusion_matrix(y_test, prediction))\n",
    "pprint(classification_report(y_test, prediction))"
   ]
  },
  {
   "cell_type": "code",
   "execution_count": 228,
   "metadata": {},
   "outputs": [],
   "source": [
    "# Using cross validation "
   ]
  },
  {
   "cell_type": "code",
   "execution_count": 232,
   "metadata": {},
   "outputs": [
    {
     "name": "stdout",
     "output_type": "stream",
     "text": [
      "LR: 0.538873 (0.000050)\n",
      "LDA: 0.725399 (0.002873)\n",
      "KNN: 0.441832 (0.002365)\n",
      "CART: 0.809181 (0.002867)\n",
      "NB: 0.538873 (0.000050)\n"
     ]
    },
    {
     "name": "stderr",
     "output_type": "stream",
     "text": [
      "c:\\users\\acer\\appdata\\local\\programs\\python\\python36\\lib\\site-packages\\sklearn\\discriminant_analysis.py:693: UserWarning: Variables are collinear\n",
      "  warnings.warn(\"Variables are collinear\")\n",
      "c:\\users\\acer\\appdata\\local\\programs\\python\\python36\\lib\\site-packages\\sklearn\\discriminant_analysis.py:693: UserWarning: Variables are collinear\n",
      "  warnings.warn(\"Variables are collinear\")\n",
      "c:\\users\\acer\\appdata\\local\\programs\\python\\python36\\lib\\site-packages\\sklearn\\discriminant_analysis.py:693: UserWarning: Variables are collinear\n",
      "  warnings.warn(\"Variables are collinear\")\n",
      "c:\\users\\acer\\appdata\\local\\programs\\python\\python36\\lib\\site-packages\\sklearn\\discriminant_analysis.py:693: UserWarning: Variables are collinear\n",
      "  warnings.warn(\"Variables are collinear\")\n",
      "c:\\users\\acer\\appdata\\local\\programs\\python\\python36\\lib\\site-packages\\sklearn\\discriminant_analysis.py:693: UserWarning: Variables are collinear\n",
      "  warnings.warn(\"Variables are collinear\")\n",
      "c:\\users\\acer\\appdata\\local\\programs\\python\\python36\\lib\\site-packages\\sklearn\\discriminant_analysis.py:693: UserWarning: Variables are collinear\n",
      "  warnings.warn(\"Variables are collinear\")\n",
      "c:\\users\\acer\\appdata\\local\\programs\\python\\python36\\lib\\site-packages\\sklearn\\discriminant_analysis.py:693: UserWarning: Variables are collinear\n",
      "  warnings.warn(\"Variables are collinear\")\n",
      "c:\\users\\acer\\appdata\\local\\programs\\python\\python36\\lib\\site-packages\\sklearn\\discriminant_analysis.py:693: UserWarning: Variables are collinear\n",
      "  warnings.warn(\"Variables are collinear\")\n",
      "c:\\users\\acer\\appdata\\local\\programs\\python\\python36\\lib\\site-packages\\sklearn\\discriminant_analysis.py:693: UserWarning: Variables are collinear\n",
      "  warnings.warn(\"Variables are collinear\")\n",
      "c:\\users\\acer\\appdata\\local\\programs\\python\\python36\\lib\\site-packages\\sklearn\\discriminant_analysis.py:693: UserWarning: Variables are collinear\n",
      "  warnings.warn(\"Variables are collinear\")\n"
     ]
    },
    {
     "name": "stdout",
     "output_type": "stream",
     "text": [
      "QDA: 0.496970 (0.119943)\n",
      "DT: 0.808679 (0.002862)\n"
     ]
    },
    {
     "name": "stderr",
     "output_type": "stream",
     "text": [
      "c:\\users\\acer\\appdata\\local\\programs\\python\\python36\\lib\\site-packages\\sklearn\\ensemble\\forest.py:245: FutureWarning: The default value of n_estimators will change from 10 in version 0.20 to 100 in 0.22.\n",
      "  \"10 in version 0.20 to 100 in 0.22.\", FutureWarning)\n",
      "c:\\users\\acer\\appdata\\local\\programs\\python\\python36\\lib\\site-packages\\sklearn\\ensemble\\forest.py:245: FutureWarning: The default value of n_estimators will change from 10 in version 0.20 to 100 in 0.22.\n",
      "  \"10 in version 0.20 to 100 in 0.22.\", FutureWarning)\n",
      "c:\\users\\acer\\appdata\\local\\programs\\python\\python36\\lib\\site-packages\\sklearn\\ensemble\\forest.py:245: FutureWarning: The default value of n_estimators will change from 10 in version 0.20 to 100 in 0.22.\n",
      "  \"10 in version 0.20 to 100 in 0.22.\", FutureWarning)\n",
      "c:\\users\\acer\\appdata\\local\\programs\\python\\python36\\lib\\site-packages\\sklearn\\ensemble\\forest.py:245: FutureWarning: The default value of n_estimators will change from 10 in version 0.20 to 100 in 0.22.\n",
      "  \"10 in version 0.20 to 100 in 0.22.\", FutureWarning)\n",
      "c:\\users\\acer\\appdata\\local\\programs\\python\\python36\\lib\\site-packages\\sklearn\\ensemble\\forest.py:245: FutureWarning: The default value of n_estimators will change from 10 in version 0.20 to 100 in 0.22.\n",
      "  \"10 in version 0.20 to 100 in 0.22.\", FutureWarning)\n",
      "c:\\users\\acer\\appdata\\local\\programs\\python\\python36\\lib\\site-packages\\sklearn\\ensemble\\forest.py:245: FutureWarning: The default value of n_estimators will change from 10 in version 0.20 to 100 in 0.22.\n",
      "  \"10 in version 0.20 to 100 in 0.22.\", FutureWarning)\n",
      "c:\\users\\acer\\appdata\\local\\programs\\python\\python36\\lib\\site-packages\\sklearn\\ensemble\\forest.py:245: FutureWarning: The default value of n_estimators will change from 10 in version 0.20 to 100 in 0.22.\n",
      "  \"10 in version 0.20 to 100 in 0.22.\", FutureWarning)\n",
      "c:\\users\\acer\\appdata\\local\\programs\\python\\python36\\lib\\site-packages\\sklearn\\ensemble\\forest.py:245: FutureWarning: The default value of n_estimators will change from 10 in version 0.20 to 100 in 0.22.\n",
      "  \"10 in version 0.20 to 100 in 0.22.\", FutureWarning)\n",
      "c:\\users\\acer\\appdata\\local\\programs\\python\\python36\\lib\\site-packages\\sklearn\\ensemble\\forest.py:245: FutureWarning: The default value of n_estimators will change from 10 in version 0.20 to 100 in 0.22.\n",
      "  \"10 in version 0.20 to 100 in 0.22.\", FutureWarning)\n",
      "c:\\users\\acer\\appdata\\local\\programs\\python\\python36\\lib\\site-packages\\sklearn\\ensemble\\forest.py:245: FutureWarning: The default value of n_estimators will change from 10 in version 0.20 to 100 in 0.22.\n",
      "  \"10 in version 0.20 to 100 in 0.22.\", FutureWarning)\n"
     ]
    },
    {
     "name": "stdout",
     "output_type": "stream",
     "text": [
      "RF: 0.838541 (0.002788)\n",
      "KNN: 0.441832 (0.002365)\n",
      "BC: 0.842712 (0.002050)\n"
     ]
    },
    {
     "name": "stderr",
     "output_type": "stream",
     "text": [
      "c:\\users\\acer\\appdata\\local\\programs\\python\\python36\\lib\\site-packages\\sklearn\\ensemble\\forest.py:245: FutureWarning: The default value of n_estimators will change from 10 in version 0.20 to 100 in 0.22.\n",
      "  \"10 in version 0.20 to 100 in 0.22.\", FutureWarning)\n",
      "c:\\users\\acer\\appdata\\local\\programs\\python\\python36\\lib\\site-packages\\sklearn\\ensemble\\forest.py:245: FutureWarning: The default value of n_estimators will change from 10 in version 0.20 to 100 in 0.22.\n",
      "  \"10 in version 0.20 to 100 in 0.22.\", FutureWarning)\n",
      "c:\\users\\acer\\appdata\\local\\programs\\python\\python36\\lib\\site-packages\\sklearn\\ensemble\\forest.py:245: FutureWarning: The default value of n_estimators will change from 10 in version 0.20 to 100 in 0.22.\n",
      "  \"10 in version 0.20 to 100 in 0.22.\", FutureWarning)\n",
      "c:\\users\\acer\\appdata\\local\\programs\\python\\python36\\lib\\site-packages\\sklearn\\ensemble\\forest.py:245: FutureWarning: The default value of n_estimators will change from 10 in version 0.20 to 100 in 0.22.\n",
      "  \"10 in version 0.20 to 100 in 0.22.\", FutureWarning)\n",
      "c:\\users\\acer\\appdata\\local\\programs\\python\\python36\\lib\\site-packages\\sklearn\\ensemble\\forest.py:245: FutureWarning: The default value of n_estimators will change from 10 in version 0.20 to 100 in 0.22.\n",
      "  \"10 in version 0.20 to 100 in 0.22.\", FutureWarning)\n",
      "c:\\users\\acer\\appdata\\local\\programs\\python\\python36\\lib\\site-packages\\sklearn\\ensemble\\forest.py:245: FutureWarning: The default value of n_estimators will change from 10 in version 0.20 to 100 in 0.22.\n",
      "  \"10 in version 0.20 to 100 in 0.22.\", FutureWarning)\n",
      "c:\\users\\acer\\appdata\\local\\programs\\python\\python36\\lib\\site-packages\\sklearn\\ensemble\\forest.py:245: FutureWarning: The default value of n_estimators will change from 10 in version 0.20 to 100 in 0.22.\n",
      "  \"10 in version 0.20 to 100 in 0.22.\", FutureWarning)\n",
      "c:\\users\\acer\\appdata\\local\\programs\\python\\python36\\lib\\site-packages\\sklearn\\ensemble\\forest.py:245: FutureWarning: The default value of n_estimators will change from 10 in version 0.20 to 100 in 0.22.\n",
      "  \"10 in version 0.20 to 100 in 0.22.\", FutureWarning)\n",
      "c:\\users\\acer\\appdata\\local\\programs\\python\\python36\\lib\\site-packages\\sklearn\\ensemble\\forest.py:245: FutureWarning: The default value of n_estimators will change from 10 in version 0.20 to 100 in 0.22.\n",
      "  \"10 in version 0.20 to 100 in 0.22.\", FutureWarning)\n",
      "c:\\users\\acer\\appdata\\local\\programs\\python\\python36\\lib\\site-packages\\sklearn\\ensemble\\forest.py:245: FutureWarning: The default value of n_estimators will change from 10 in version 0.20 to 100 in 0.22.\n",
      "  \"10 in version 0.20 to 100 in 0.22.\", FutureWarning)\n"
     ]
    },
    {
     "name": "stdout",
     "output_type": "stream",
     "text": [
      "ETC: 0.813684 (0.003657)\n",
      "SGD: 0.275527 (0.173788)\n"
     ]
    },
    {
     "data": {
      "image/png": "[encoded data removed]",
      "text/plain": [
       "<Figure size 432x288 with 1 Axes>"
      ]
     },
     "metadata": {
      "needs_background": "light"
     },
     "output_type": "display_data"
    }
   ],
   "source": [
    "models = []\n",
    "models.append(('LR', LogisticRegression(solver='liblinear', multi_class='ovr')))\n",
    "models.append(('LDA', LinearDiscriminantAnalysis()))\n",
    "models.append(('KNN', KNeighborsClassifier()))\n",
    "models.append(('CART', DecisionTreeClassifier()))\n",
    "models.append(('NB', GaussianNB()))\n",
    "models.append(('QDA', QuadraticDiscriminantAnalysis()))\n",
    "models.append(('DT', DecisionTreeClassifier()))\n",
    "models.append(('RF', RandomForestClassifier()))\n",
    "models.append(('KNN', KNeighborsClassifier()))\n",
    "models.append(('BC', BaggingClassifier()))\n",
    "models.append(('ETC', ExtraTreesClassifier()))\n",
    "models.append(('SGD', SGDClassifier()))\n",
    "\n",
    "# evaluate each model in turn\n",
    "results = []\n",
    "names = []\n",
    "for name, model in models:\n",
    "    kfold = StratifiedKFold(n_splits=10, random_state=1, shuffle=True)\n",
    "    cv_results = cross_val_score(model, x, y, cv=kfold, scoring='accuracy')\n",
    "    results.append(cv_results)\n",
    "    names.append(name)\n",
    "    print('%s: %f (%f)' % (name, cv_results.mean(), cv_results.std()))\n",
    "pyplot.boxplot(results, labels=names)\n",
    "pyplot.title('Algorithm Comparison')\n",
    "pyplot.show()"
   ]
  },
  {
   "cell_type": "code",
   "execution_count": null,
   "metadata": {},
   "outputs": [],
   "source": [
    "# Lets apply Bagging classifier model on our test data as this has given us best results"
   ]
  },
  {
   "cell_type": "code",
   "execution_count": 239,
   "metadata": {},
   "outputs": [
    {
     "data": {
      "text/html": [
       "<div>\n",
       "<style scoped>\n",
       "    .dataframe tbody tr th:only-of-type {\n",
       "        vertical-align: middle;\n",
       "    }\n",
       "\n",
       "    .dataframe tbody tr th {\n",
       "        vertical-align: top;\n",
       "    }\n",
       "\n",
       "    .dataframe thead th {\n",
       "        text-align: right;\n",
       "    }\n",
       "</style>\n",
       "<table border=\"1\" class=\"dataframe\">\n",
       "  <thead>\n",
       "    <tr style=\"text-align: right;\">\n",
       "      <th></th>\n",
       "      <th>id</th>\n",
       "      <th>licenseno</th>\n",
       "      <th>facilityid</th>\n",
       "      <th>facilityname</th>\n",
       "      <th>type</th>\n",
       "      <th>street</th>\n",
       "      <th>locationid</th>\n",
       "      <th>reason</th>\n",
       "      <th>sectionviolations</th>\n",
       "      <th>inspection_results</th>\n",
       "      <th>day</th>\n",
       "      <th>month</th>\n",
       "      <th>year</th>\n",
       "      <th>cityid</th>\n",
       "      <th>stateid</th>\n",
       "      <th>risklevel_High</th>\n",
       "      <th>risklevel_Low</th>\n",
       "      <th>risklevel_Medium</th>\n",
       "      <th>geoloc_id</th>\n",
       "    </tr>\n",
       "  </thead>\n",
       "  <tbody>\n",
       "    <tr>\n",
       "      <td>0</td>\n",
       "      <td>47571900570810</td>\n",
       "      <td>34218</td>\n",
       "      <td>2354</td>\n",
       "      <td>2185</td>\n",
       "      <td>185</td>\n",
       "      <td>17352</td>\n",
       "      <td>81864</td>\n",
       "      <td>0</td>\n",
       "      <td>19</td>\n",
       "      <td>NaN</td>\n",
       "      <td>19</td>\n",
       "      <td>3</td>\n",
       "      <td>2014</td>\n",
       "      <td>11235901</td>\n",
       "      <td>1890134</td>\n",
       "      <td>0</td>\n",
       "      <td>1</td>\n",
       "      <td>0</td>\n",
       "      <td>1145</td>\n",
       "    </tr>\n",
       "    <tr>\n",
       "      <td>1</td>\n",
       "      <td>19685766253655</td>\n",
       "      <td>24597</td>\n",
       "      <td>13183</td>\n",
       "      <td>12516</td>\n",
       "      <td>370</td>\n",
       "      <td>15536</td>\n",
       "      <td>81871</td>\n",
       "      <td>0</td>\n",
       "      <td>32</td>\n",
       "      <td>NaN</td>\n",
       "      <td>22</td>\n",
       "      <td>11</td>\n",
       "      <td>2010</td>\n",
       "      <td>11235901</td>\n",
       "      <td>1890134</td>\n",
       "      <td>1</td>\n",
       "      <td>0</td>\n",
       "      <td>0</td>\n",
       "      <td>16450</td>\n",
       "    </tr>\n",
       "    <tr>\n",
       "      <td>2</td>\n",
       "      <td>37885701847801</td>\n",
       "      <td>1779</td>\n",
       "      <td>26434</td>\n",
       "      <td>25220</td>\n",
       "      <td>344</td>\n",
       "      <td>8849</td>\n",
       "      <td>81902</td>\n",
       "      <td>0</td>\n",
       "      <td>24</td>\n",
       "      <td>NaN</td>\n",
       "      <td>6</td>\n",
       "      <td>9</td>\n",
       "      <td>2014</td>\n",
       "      <td>11235901</td>\n",
       "      <td>1890134</td>\n",
       "      <td>1</td>\n",
       "      <td>0</td>\n",
       "      <td>0</td>\n",
       "      <td>12916</td>\n",
       "    </tr>\n",
       "  </tbody>\n",
       "</table>\n",
       "</div>"
      ],
      "text/plain": [
       "               id  licenseno  facilityid  facilityname  type  street  \\\n",
       "0  47571900570810      34218        2354          2185   185   17352   \n",
       "1  19685766253655      24597       13183         12516   370   15536   \n",
       "2  37885701847801       1779       26434         25220   344    8849   \n",
       "\n",
       "   locationid  reason  sectionviolations  inspection_results  day  month  \\\n",
       "0       81864       0                 19                 NaN   19      3   \n",
       "1       81871       0                 32                 NaN   22     11   \n",
       "2       81902       0                 24                 NaN    6      9   \n",
       "\n",
       "   year    cityid  stateid  risklevel_High  risklevel_Low  risklevel_Medium  \\\n",
       "0  2014  11235901  1890134               0              1                 0   \n",
       "1  2010  11235901  1890134               1              0                 0   \n",
       "2  2014  11235901  1890134               1              0                 0   \n",
       "\n",
       "   geoloc_id  \n",
       "0       1145  \n",
       "1      16450  \n",
       "2      12916  "
      ]
     },
     "execution_count": 239,
     "metadata": {},
     "output_type": "execute_result"
    }
   ],
   "source": [
    "test.head(3)"
   ]
  },
  {
   "cell_type": "code",
   "execution_count": null,
   "metadata": {},
   "outputs": [],
   "source": [
    "# dividing dataset in dependent and independent variables"
   ]
  },
  {
   "cell_type": "code",
   "execution_count": 241,
   "metadata": {},
   "outputs": [],
   "source": [
    "testy=test[\"inspection_results\"]\n",
    "testx=test.drop(\"inspection_results\",axis=1)"
   ]
  },
  {
   "cell_type": "code",
   "execution_count": null,
   "metadata": {},
   "outputs": [],
   "source": [
    "# applying ml algo"
   ]
  },
  {
   "cell_type": "code",
   "execution_count": 244,
   "metadata": {},
   "outputs": [],
   "source": [
    "bc=BaggingClassifier()\n",
    "bc.fit(x,y)\n",
    "prediction=bc.predict(testx)"
   ]
  },
  {
   "cell_type": "code",
   "execution_count": null,
   "metadata": {},
   "outputs": [],
   "source": [
    "# lets see predicted values"
   ]
  },
  {
   "cell_type": "code",
   "execution_count": 245,
   "metadata": {},
   "outputs": [
    {
     "name": "stdout",
     "output_type": "stream",
     "text": [
      "[1 4 3 ... 4 1 4]\n"
     ]
    }
   ],
   "source": [
    "print(prediction)"
   ]
  },
  {
   "cell_type": "code",
   "execution_count": 269,
   "metadata": {},
   "outputs": [],
   "source": [
    "final_prediction=pd.DataFrame({\"Predicted\":prediction})"
   ]
  },
  {
   "cell_type": "code",
   "execution_count": null,
   "metadata": {},
   "outputs": [],
   "source": []
  },
  {
   "cell_type": "code",
   "execution_count": 265,
   "metadata": {},
   "outputs": [],
   "source": [
    "final_prediction.Predicted=final_prediction.Predicted.astype(object)"
   ]
  },
  {
   "cell_type": "code",
   "execution_count": 271,
   "metadata": {},
   "outputs": [],
   "source": [
    "sub=pd.get_dummies(final_prediction, columns=[\"Predicted\"])"
   ]
  },
  {
   "cell_type": "code",
   "execution_count": 273,
   "metadata": {},
   "outputs": [
    {
     "data": {
      "text/html": [
       "<div>\n",
       "<style scoped>\n",
       "    .dataframe tbody tr th:only-of-type {\n",
       "        vertical-align: middle;\n",
       "    }\n",
       "\n",
       "    .dataframe tbody tr th {\n",
       "        vertical-align: top;\n",
       "    }\n",
       "\n",
       "    .dataframe thead th {\n",
       "        text-align: right;\n",
       "    }\n",
       "</style>\n",
       "<table border=\"1\" class=\"dataframe\">\n",
       "  <thead>\n",
       "    <tr style=\"text-align: right;\">\n",
       "      <th></th>\n",
       "      <th>Predicted_0</th>\n",
       "      <th>Predicted_1</th>\n",
       "      <th>Predicted_2</th>\n",
       "      <th>Predicted_3</th>\n",
       "      <th>Predicted_4</th>\n",
       "      <th>Predicted_5</th>\n",
       "      <th>Predicted_6</th>\n",
       "    </tr>\n",
       "  </thead>\n",
       "  <tbody>\n",
       "    <tr>\n",
       "      <td>0</td>\n",
       "      <td>0</td>\n",
       "      <td>1</td>\n",
       "      <td>0</td>\n",
       "      <td>0</td>\n",
       "      <td>0</td>\n",
       "      <td>0</td>\n",
       "      <td>0</td>\n",
       "    </tr>\n",
       "    <tr>\n",
       "      <td>1</td>\n",
       "      <td>0</td>\n",
       "      <td>0</td>\n",
       "      <td>0</td>\n",
       "      <td>0</td>\n",
       "      <td>1</td>\n",
       "      <td>0</td>\n",
       "      <td>0</td>\n",
       "    </tr>\n",
       "    <tr>\n",
       "      <td>2</td>\n",
       "      <td>0</td>\n",
       "      <td>0</td>\n",
       "      <td>0</td>\n",
       "      <td>1</td>\n",
       "      <td>0</td>\n",
       "      <td>0</td>\n",
       "      <td>0</td>\n",
       "    </tr>\n",
       "  </tbody>\n",
       "</table>\n",
       "</div>"
      ],
      "text/plain": [
       "   Predicted_0  Predicted_1  Predicted_2  Predicted_3  Predicted_4  \\\n",
       "0            0            1            0            0            0   \n",
       "1            0            0            0            0            1   \n",
       "2            0            0            0            1            0   \n",
       "\n",
       "   Predicted_5  Predicted_6  \n",
       "0            0            0  \n",
       "1            0            0  \n",
       "2            0            0  "
      ]
     },
     "execution_count": 273,
     "metadata": {},
     "output_type": "execute_result"
    }
   ],
   "source": [
    "sub.head(3)"
   ]
  },
  {
   "cell_type": "code",
   "execution_count": null,
   "metadata": {},
   "outputs": [],
   "source": [
    "'''\n",
    "0:’FACILITY CHANGED’\n",
    "1:’FAIL’\n",
    "2:’FURTHER INSPECTION REQUIRED’,\n",
    "3:’INSPECTION OVERRULED’\n",
    "4:’PASS’\n",
    "5:’PASS(CONDITIONAL)’\n",
    "6:’SHUT-DOWN’\n",
    "'''"
   ]
  },
  {
   "cell_type": "code",
   "execution_count": 277,
   "metadata": {},
   "outputs": [],
   "source": [
    "sub.rename(columns={\"Predicted_0\":\"FACILITY CHANGED\",\"Predicted_1\":\"FAIL\",\"Predicted_2\":\"FURTHER INSPECTION REQUIRED\",\n",
    "                   \"Predicted_3\":\"INSPECTION OVERRULED\",\"Predicted_4\":\"PASS\",\"Predicted_5\":\"PASS(CONDITIONAL)\",\"Predicted_6\":\"SHUT-DOWN\"},inplace=True)"
   ]
  },
  {
   "cell_type": "code",
   "execution_count": 281,
   "metadata": {},
   "outputs": [
    {
     "data": {
      "text/html": [
       "<div>\n",
       "<style scoped>\n",
       "    .dataframe tbody tr th:only-of-type {\n",
       "        vertical-align: middle;\n",
       "    }\n",
       "\n",
       "    .dataframe tbody tr th {\n",
       "        vertical-align: top;\n",
       "    }\n",
       "\n",
       "    .dataframe thead th {\n",
       "        text-align: right;\n",
       "    }\n",
       "</style>\n",
       "<table border=\"1\" class=\"dataframe\">\n",
       "  <thead>\n",
       "    <tr style=\"text-align: right;\">\n",
       "      <th></th>\n",
       "      <th>FACILITY CHANGED</th>\n",
       "      <th>FAIL</th>\n",
       "      <th>FURTHER INSPECTION REQUIRED</th>\n",
       "      <th>INSPECTION OVERRULED</th>\n",
       "      <th>PASS</th>\n",
       "      <th>PASS(CONDITIONAL)</th>\n",
       "      <th>SHUT-DOWN</th>\n",
       "    </tr>\n",
       "  </thead>\n",
       "  <tbody>\n",
       "    <tr>\n",
       "      <td>0</td>\n",
       "      <td>0</td>\n",
       "      <td>1</td>\n",
       "      <td>0</td>\n",
       "      <td>0</td>\n",
       "      <td>0</td>\n",
       "      <td>0</td>\n",
       "      <td>0</td>\n",
       "    </tr>\n",
       "    <tr>\n",
       "      <td>1</td>\n",
       "      <td>0</td>\n",
       "      <td>0</td>\n",
       "      <td>0</td>\n",
       "      <td>0</td>\n",
       "      <td>1</td>\n",
       "      <td>0</td>\n",
       "      <td>0</td>\n",
       "    </tr>\n",
       "    <tr>\n",
       "      <td>2</td>\n",
       "      <td>0</td>\n",
       "      <td>0</td>\n",
       "      <td>0</td>\n",
       "      <td>1</td>\n",
       "      <td>0</td>\n",
       "      <td>0</td>\n",
       "      <td>0</td>\n",
       "    </tr>\n",
       "  </tbody>\n",
       "</table>\n",
       "</div>"
      ],
      "text/plain": [
       "   FACILITY CHANGED  FAIL  FURTHER INSPECTION REQUIRED  INSPECTION OVERRULED  \\\n",
       "0                 0     1                            0                     0   \n",
       "1                 0     0                            0                     0   \n",
       "2                 0     0                            0                     1   \n",
       "\n",
       "   PASS  PASS(CONDITIONAL)  SHUT-DOWN  \n",
       "0     0                  0          0  \n",
       "1     1                  0          0  \n",
       "2     0                  0          0  "
      ]
     },
     "execution_count": 281,
     "metadata": {},
     "output_type": "execute_result"
    }
   ],
   "source": [
    "sub.head(3)"
   ]
  },
  {
   "cell_type": "code",
   "execution_count": null,
   "metadata": {},
   "outputs": [],
   "source": [
    "# converting to csv"
   ]
  },
  {
   "cell_type": "code",
   "execution_count": 282,
   "metadata": {},
   "outputs": [],
   "source": [
    "sub.to_csv(\"finalsubmission_fooddataset.csv\", index=False)"
   ]
  },
  {
   "cell_type": "code",
   "execution_count": null,
   "metadata": {},
   "outputs": [],
   "source": [
    "## Thank you"
   ]
  }
 ],
 "metadata": {
  "kernelspec": {
   "display_name": "Python 3",
   "language": "python",
   "name": "python3"
  },
  "language_info": {
   "codemirror_mode": {
    "name": "ipython",
    "version": 3
   },
   "file_extension": ".py",
   "mimetype": "text/x-python",
   "name": "python",
   "nbconvert_exporter": "python",
   "pygments_lexer": "ipython3",
   "version": "3.6.5"
  }
 },
 "nbformat": 4,
 "nbformat_minor": 2
}
